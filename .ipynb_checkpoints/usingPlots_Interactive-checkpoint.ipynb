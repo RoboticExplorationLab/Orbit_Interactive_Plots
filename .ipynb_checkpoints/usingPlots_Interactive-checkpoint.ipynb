{
 "cells": [
  {
   "cell_type": "code",
   "execution_count": null,
   "id": "7ae7628f",
   "metadata": {},
   "outputs": [],
   "source": [
    "#Satellite Orbiting Earth Example with frame on Earth\n",
    "using LinearAlgebra\n",
    "using Plots\n",
    "using BenchmarkTools\n",
    "using SatelliteDynamics\n",
    "using StaticArrays\n",
    "using Interact\n",
    "\n",
    "const G = 6.67430e-20 #km**3/(kg * s**2)\n",
    "const m_1 = 5.97219e24 #mass of the Earth in kg\n",
    "const m_2 = 1 #mass of satellite in kg\n",
    "const μ = G*m_1\n",
    "const R_earth = 6378.12 # in km\n",
    "h = 1 #time step in seconds"
   ]
  },
  {
   "cell_type": "code",
   "execution_count": null,
   "id": "977d4e19",
   "metadata": {},
   "outputs": [],
   "source": [
    "function sat_dynamics(x)\n",
    "    \n",
    "    sat_pose = SA[x[1], x[2], x[3]]\n",
    "    \n",
    "    #This WORKS\n",
    "    upperleft = @SMatrix zeros(3,3)\n",
    "    upperright = SMatrix{3,3}(1.0I)\n",
    "    lowerleft = SMatrix{3,3}(1I)*(-μ/(norm(sat_pose))^3)\n",
    "    lowerright = @SMatrix zeros(3,3)\n",
    "    \n",
    "    \n",
    "    upper = [upperleft upperright]\n",
    "    lower = [lowerleft lowerright]\n",
    "    \n",
    "    A = [upper; lower]\n",
    "    \n",
    "    xdot = A*x\n",
    "    \n",
    "    return xdot\n",
    "    \n",
    "end"
   ]
  },
  {
   "cell_type": "code",
   "execution_count": null,
   "id": "2f234dcf",
   "metadata": {},
   "outputs": [],
   "source": [
    "function RK4_orbit(x, h)\n",
    "    \n",
    "    f1 = sat_dynamics(x)\n",
    "    f2 = sat_dynamics(x+0.5*h*f1)\n",
    "    f3 = sat_dynamics(x+0.5*h*f2)\n",
    "    f4 = sat_dynamics(x+h*f3)\n",
    "    \n",
    "    xnext = x+(h/6.0)*(f1+2*f2+2*f3+f4)\n",
    "\n",
    "    return xnext\n",
    "    \n",
    "end"
   ]
  },
  {
   "cell_type": "code",
   "execution_count": null,
   "id": "da56d60d",
   "metadata": {},
   "outputs": [],
   "source": [
    "function twobody_rk4(fun, x0, Tf, h)\n",
    "    \n",
    "    t = Array(range(0,Tf, step=h)) #create a range to final time at constant time step\n",
    "    \n",
    "    all_x = zeros(length(x0), length(t)) #variable to store all x\n",
    "    \n",
    "    all_x[:,1] .= x0 #set the initial state\n",
    "    \n",
    "    for k=1:(length(t) - 1)\n",
    "        all_x[:,k+1] .= RK4_orbit(all_x[:,k], h)\n",
    "    end\n",
    "    \n",
    "    return all_x, t\n",
    "end"
   ]
  },
  {
   "cell_type": "code",
   "execution_count": null,
   "id": "aea62f27",
   "metadata": {},
   "outputs": [],
   "source": [
    "#Tag position\n",
    "#equator position in cartesian coordinates\n",
    "#tag =[-6.128804e6, -1.590206e6, 776.1502e3]\n",
    "#Equitorial position\n",
    "tag_geof = [-165.4545, 0, 0]\n",
    "\n",
    "#North pole position\n",
    "#tag_geof = [-165.4545, 46.98849, 0]\n",
    "\n",
    "tag = sGEOCtoECEF(tag_geof, use_degrees = true)\n",
    "    \n",
    "#Equitorial Position\n",
    "#In m\n",
    "x0= tag[1]*1e-3\n",
    "y0 = tag[2]*1e-3\n",
    "z0 = tag[3]*1e-3\n",
    "t0 = 1e-5\n",
    "\n",
    "r0 = [x0, y0, z0, t0]"
   ]
  },
  {
   "cell_type": "code",
   "execution_count": null,
   "id": "14cfd38b",
   "metadata": {},
   "outputs": [],
   "source": [
    "# # #Plot the Earth\n",
    "# n = 100\n",
    "# u = range(-π, π; length = n)\n",
    "# v = range(0, π; length = n)\n",
    "# x = cos.(u) * sin.(v)'\n",
    "# y = sin.(u) * sin.(v)' \n",
    "# z = ones(n) * cos.(v)' \n",
    "\n",
    "\n",
    "# plotly()\n",
    "# p = surface(x*6371, y*6371, z*6371, color = \"blue\", showscale = false)"
   ]
  },
  {
   "cell_type": "code",
   "execution_count": null,
   "id": "236a94ec",
   "metadata": {},
   "outputs": [],
   "source": [
    "function orbit_update(trueanom, RAAN_sep, delta_sep, altitude)\n",
    "    \n",
    "    iss1 = [6371e3 + (altitude*1e3), 0.0004879, 90.6391, 194.0859- (RAAN_sep/2), 151.2014, 190];\n",
    "    iss2 = [6371e3 + (altitude*1e3), 0.0004879, 90.6391, 194.0859 - (RAAN_sep/2), 151.2014, 190+trueanom];\n",
    "    iss3 = [6371e3 + (altitude*1e3), 0.0004879, 90.6391, 195.0859 + (RAAN_sep/2), 151.2014, 190+delta_sep]; \n",
    "    iss4 = [6371e3 + (altitude*1e3), 0.0004879, 90.6391, 195.0859 + (RAAN_sep/2), 151.2014, 190+delta_sep+trueanom]; \n",
    "    \n",
    "    eci0_1 = sOSCtoCART(iss1, use_degrees=true)\n",
    "    eci0_2 = sOSCtoCART(iss2, use_degrees=true)\n",
    "    eci0_3 = sOSCtoCART(iss3, use_degrees=true)\n",
    "    eci0_4 = sOSCtoCART(iss4, use_degrees=true)\n",
    "    \n",
    "    T = orbit_period(iss1[1])\n",
    "    \n",
    "    #in km\n",
    "    x0_1 = SA[eci0_1[1], eci0_1[2], eci0_1[3],eci0_1[4], eci0_1[5], eci0_1[6]]*1e-3 \n",
    "    x0_2 = SA[eci0_2[1], eci0_2[2], eci0_2[3],eci0_2[4], eci0_2[5], eci0_2[6]]*1e-3 \n",
    "    x0_3 = SA[eci0_3[1], eci0_3[2], eci0_3[3],eci0_3[4], eci0_3[5], eci0_3[6]]*1e-3 \n",
    "    x0_4 = SA[eci0_4[1], eci0_4[2], eci0_4[3],eci0_4[4], eci0_4[5], eci0_4[6]]*1e-3 \n",
    "    \n",
    "    #Find state of orbit 1,2,3,4\n",
    "    eci_1, t_hist1 = twobody_rk4(sat_dynamics, x0_1, T, h)\n",
    "    eci_2, t_hist2 = twobody_rk4(sat_dynamics, x0_2, T, h)\n",
    "    eci_3, t_hist3 = twobody_rk4(sat_dynamics, x0_3, T, h)\n",
    "    eci_4, t_hist4 = twobody_rk4(sat_dynamics, x0_4, T, h)\n",
    "    \n",
    "    centroid_guess = [(eci_1[1,1]+eci_2[1,1]+eci_3[1,1]+eci_4[1,1])/4, (eci_1[2,1]+eci_2[2,1]+eci_3[2,1]+eci_4[2,1])/4, (eci_1[3,1]+eci_2[3,1]+eci_3[3,1]+eci_4[3,1])/4] \n",
    "    onearth = sECEFtoGEOC(centroid_guess, use_degrees = true)\n",
    "    geodetic = [onearth[1], onearth[2], 0]\n",
    "\n",
    "    #Guess\n",
    "    xyz = sGEOCtoECEF(geodetic, use_degrees = true)*1e-3\n",
    "    \n",
    "    plot(eci_1[1,:], eci_1[2,:], eci_1[3,:], label=\"Orbit 1/2\", title=\"Satellite Constellation\", \n",
    "         xlims=(-6000,6000), ylims=(-6000,6000), zlims=(-6000,6000), xlabel=\"X (km)\",ylabel= \"Y (km)\", zlabel= \"Z (km)\",\n",
    "          yformatter = :plain, xformatter = :plain, zformatter = :plain);\n",
    "    plot!(eci_3[1,:], eci_3[2,:], eci_3[3,:], label=\"Orbit 3/4\")\n",
    "    \n",
    "    #using Plots\n",
    "     #Plot all 4 satellite initial positions\n",
    "     scatter!([eci_1[1,1],eci_2[1,1], eci_3[1,1], eci_4[1,1]],  [eci_1[2,1],eci_2[2,1], eci_3[2,1], eci_4[2,1]], [eci_1[3,1],eci_2[3,1], eci_3[3,1], eci_4[3,1]], label=\"satellites\")\n",
    "    \n",
    "     #Plot Tag position\n",
    "     #scatter!([r0[1]], [r0[2]], [r0[3]], label=\"tag\")\n",
    "\n",
    "     #Plot the Guess\n",
    "     #scatter!([xyz[1]], [xyz[2]], [xyz[3]], label=\"guess\")\n",
    "        \n",
    "end"
   ]
  },
  {
   "cell_type": "code",
   "execution_count": null,
   "id": "44a296f8",
   "metadata": {},
   "outputs": [],
   "source": [
    "trueanom = 10\n",
    "RAAN_sep = 2\n",
    "delta_sep = 3\n",
    "altitude = 800\n",
    "\n",
    "orbit_update(trueanom, RAAN_sep, delta_sep, altitude)"
   ]
  },
  {
   "cell_type": "code",
   "execution_count": null,
   "id": "d8fa7f48",
   "metadata": {},
   "outputs": [],
   "source": [
    "#@btime orbit_update($trueanom, $RAAN_sep, $delta_sep, $altitude) #run to test speed. currently at 6 ms"
   ]
  },
  {
   "cell_type": "code",
   "execution_count": null,
   "id": "fa61a89b",
   "metadata": {},
   "outputs": [],
   "source": [
    "#create the sliders \n",
    "\n",
    "trueanom = slider(1:0.5:15; label=\"True Anomaly Seperation\")\n",
    "RAAN_sep = slider(1:0.5:5; label=\"RAAN Seperation between Orbits\")\n",
    "delta_sep = slider(1:0.5:10; label=\"Delta True Anomaly Seperation\")\n",
    "altitude = slider(400:100:1200; label=\"Orbit Altitude (km)\")"
   ]
  },
  {
   "cell_type": "code",
   "execution_count": null,
   "id": "0e1ecd7f",
   "metadata": {},
   "outputs": [],
   "source": [
    "mp = @manipulate for trueanom in trueanom, RAAN_sep in RAAN_sep, delta_sep in delta_sep, altitude in altitude\n",
    "    orbit_update(trueanom, RAAN_sep, delta_sep, altitude)\n",
    "    \n",
    "end"
   ]
  },
  {
   "cell_type": "code",
   "execution_count": null,
   "id": "2442828d",
   "metadata": {},
   "outputs": [],
   "source": [
    "#Need to fix the axes in the intersection of x and y axes"
   ]
  }
 ],
 "metadata": {
  "@webio": {
   "lastCommId": null,
   "lastKernelId": null
  },
  "kernelspec": {
   "display_name": "Julia 1.6.5",
   "language": "julia",
   "name": "julia-1.6"
  },
  "language_info": {
   "file_extension": ".jl",
   "mimetype": "application/julia",
   "name": "julia",
   "version": "1.6.5"
  }
 },
 "nbformat": 4,
 "nbformat_minor": 5
}
