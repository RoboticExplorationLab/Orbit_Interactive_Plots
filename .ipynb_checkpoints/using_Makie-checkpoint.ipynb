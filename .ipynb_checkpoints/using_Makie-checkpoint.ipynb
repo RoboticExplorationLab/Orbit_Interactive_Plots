{
 "cells": [
  {
   "cell_type": "code",
   "execution_count": 1,
   "id": "78face14",
   "metadata": {},
   "outputs": [],
   "source": [
    "using GLMakie, FileIO, Colors\n",
    "using LinearAlgebra\n",
    "using BenchmarkTools\n",
    "using StaticArrays\n",
    "using SatelliteDynamics"
   ]
  },
  {
   "cell_type": "code",
   "execution_count": 2,
   "id": "cac8f0a6",
   "metadata": {},
   "outputs": [
    {
     "data": {
      "text/plain": [
       "1"
      ]
     },
     "execution_count": 2,
     "metadata": {},
     "output_type": "execute_result"
    }
   ],
   "source": [
    "const G = 6.67430e-20 #km**3/(kg * s**2)\n",
    "const m_1 = 5.97219e24 #mass of the Earth in kg\n",
    "const m_2 = 1 #mass of satellite in kg\n",
    "const μ = G*m_1\n",
    "const R_earth = 6378.12 # in km\n",
    "h = 1 #time step in seconds"
   ]
  },
  {
   "cell_type": "code",
   "execution_count": 3,
   "id": "d0f9f0a2",
   "metadata": {},
   "outputs": [
    {
     "data": {
      "text/plain": [
       "sat_dynamics (generic function with 1 method)"
      ]
     },
     "execution_count": 3,
     "metadata": {},
     "output_type": "execute_result"
    }
   ],
   "source": [
    "function sat_dynamics(x)\n",
    "    \n",
    "    sat_pose = SA[x[1], x[2], x[3]]\n",
    "    \n",
    "    #This WORKS\n",
    "    upperleft = @SMatrix zeros(3,3)\n",
    "    upperright = SMatrix{3,3}(1.0I)\n",
    "    lowerleft = SMatrix{3,3}(1I)*(-μ/(norm(sat_pose))^3)\n",
    "    lowerright = @SMatrix zeros(3,3)\n",
    "    \n",
    "    \n",
    "    upper = [upperleft upperright]\n",
    "    lower = [lowerleft lowerright]\n",
    "    \n",
    "    A = [upper; lower]\n",
    "    \n",
    "    xdot = A*x\n",
    "    \n",
    "    return xdot\n",
    "    \n",
    "end"
   ]
  },
  {
   "cell_type": "code",
   "execution_count": 4,
   "id": "4db79e6b",
   "metadata": {},
   "outputs": [
    {
     "data": {
      "text/plain": [
       "RK4_orbit (generic function with 1 method)"
      ]
     },
     "execution_count": 4,
     "metadata": {},
     "output_type": "execute_result"
    }
   ],
   "source": [
    "function RK4_orbit(x, h)\n",
    "    \n",
    "    f1 = sat_dynamics(x)\n",
    "    f2 = sat_dynamics(x+0.5*h*f1)\n",
    "    f3 = sat_dynamics(x+0.5*h*f2)\n",
    "    f4 = sat_dynamics(x+h*f3)\n",
    "    \n",
    "    xnext = x+(h/6.0)*(f1+2*f2+2*f3+f4)\n",
    "\n",
    "    return xnext\n",
    "    \n",
    "end"
   ]
  },
  {
   "cell_type": "code",
   "execution_count": 5,
   "id": "dba8f8a2",
   "metadata": {},
   "outputs": [
    {
     "data": {
      "text/plain": [
       "twobody_rk4 (generic function with 1 method)"
      ]
     },
     "execution_count": 5,
     "metadata": {},
     "output_type": "execute_result"
    }
   ],
   "source": [
    "function twobody_rk4(fun, x0, Tf, h)\n",
    "    \n",
    "    t = Array(range(0,Tf, step=h)) #create a range to final time at constant time step\n",
    "    \n",
    "    all_x = zeros(length(x0), length(t)) #variable to store all x\n",
    "    \n",
    "    all_x[:,1] .= x0 #set the initial state\n",
    "    \n",
    "    for k=1:(length(t) - 1)\n",
    "        all_x[:,k+1] .= RK4_orbit(all_x[:,k], h)\n",
    "    end\n",
    "    \n",
    "    return all_x, t\n",
    "end"
   ]
  },
  {
   "cell_type": "code",
   "execution_count": 6,
   "id": "840f9225",
   "metadata": {},
   "outputs": [
    {
     "data": {
      "text/plain": [
       "4-element Vector{Float64}:\n",
       " -6173.708155673107\n",
       " -1601.861167312689\n",
       "     0.0\n",
       "     1.0e-5"
      ]
     },
     "execution_count": 6,
     "metadata": {},
     "output_type": "execute_result"
    }
   ],
   "source": [
    "#Tag position\n",
    "#equator position in cartesian coordinates\n",
    "#tag =[-6.128804e6, -1.590206e6, 776.1502e3]\n",
    "#Equitorial position\n",
    "tag_geof = [-165.4545, 0, 0]\n",
    "\n",
    "#North pole position\n",
    "#tag_geof = [-165.4545, 46.98849, 0]\n",
    "\n",
    "tag = sGEOCtoECEF(tag_geof, use_degrees = true)\n",
    "    \n",
    "#Equitorial Position\n",
    "#In m\n",
    "x0= tag[1]*1e-3\n",
    "y0 = tag[2]*1e-3\n",
    "z0 = tag[3]*1e-3\n",
    "t0 = 1e-5\n",
    "\n",
    "r0 = [x0, y0, z0, t0]"
   ]
  },
  {
   "cell_type": "code",
   "execution_count": 7,
   "id": "fb4870b4",
   "metadata": {},
   "outputs": [
    {
     "data": {
      "text/plain": [
       "orbit_update (generic function with 1 method)"
      ]
     },
     "execution_count": 7,
     "metadata": {},
     "output_type": "execute_result"
    }
   ],
   "source": [
    "function orbit_update(trueanom, RAAN_sep, delta_sep, altitude)\n",
    "    \n",
    "    iss1 = [6371e3 + (altitude*1e3), 0.0004879, 90.6391, 194.0859- (RAAN_sep/2), 151.2014, 190];\n",
    "    iss2 = [6371e3 + (altitude*1e3), 0.0004879, 90.6391, 194.0859 - (RAAN_sep/2), 151.2014, 190+trueanom];\n",
    "    iss3 = [6371e3 + (altitude*1e3), 0.0004879, 90.6391, 195.0859 + (RAAN_sep/2), 151.2014, 190+delta_sep]; \n",
    "    iss4 = [6371e3 + (altitude*1e3), 0.0004879, 90.6391, 195.0859 + (RAAN_sep/2), 151.2014, 190+delta_sep+trueanom]; \n",
    "    \n",
    "    eci0_1 = sOSCtoCART(iss1, use_degrees=true)\n",
    "    eci0_2 = sOSCtoCART(iss2, use_degrees=true)\n",
    "    eci0_3 = sOSCtoCART(iss3, use_degrees=true)\n",
    "    eci0_4 = sOSCtoCART(iss4, use_degrees=true)\n",
    "    \n",
    "    T = orbit_period(iss1[1])\n",
    "    \n",
    "    #in km\n",
    "    x0_1 = SA[eci0_1[1], eci0_1[2], eci0_1[3],eci0_1[4], eci0_1[5], eci0_1[6]]*1e-3 \n",
    "    x0_2 = SA[eci0_2[1], eci0_2[2], eci0_2[3],eci0_2[4], eci0_2[5], eci0_2[6]]*1e-3 \n",
    "    x0_3 = SA[eci0_3[1], eci0_3[2], eci0_3[3],eci0_3[4], eci0_3[5], eci0_3[6]]*1e-3 \n",
    "    x0_4 = SA[eci0_4[1], eci0_4[2], eci0_4[3],eci0_4[4], eci0_4[5], eci0_4[6]]*1e-3 \n",
    "    \n",
    "    #Find state of orbit 1,2,3,4\n",
    "    eci_1, t_hist1 = twobody_rk4(sat_dynamics, x0_1, T, h)\n",
    "    eci_2, t_hist2 = twobody_rk4(sat_dynamics, x0_2, T, h)\n",
    "    eci_3, t_hist3 = twobody_rk4(sat_dynamics, x0_3, T, h)\n",
    "    eci_4, t_hist4 = twobody_rk4(sat_dynamics, x0_4, T, h)\n",
    "    \n",
    "    #6557 is the size of the array when it is at 1200. Need to make it a fixed size to be able to make it \n",
    "    #interactive\n",
    "    \n",
    "    size_eci1 = size(eci_1)\n",
    "    size_eci2 = size(eci_2)\n",
    "    size_eci3 = size(eci_3)\n",
    "    size_eci4 = size(eci_4)\n",
    "    \n",
    "    eci_1_sized = zeros(6,6557)\n",
    "    eci_2_sized = zeros(6,6557)\n",
    "    eci_3_sized = zeros(6,6557)\n",
    "    eci_4_sized = zeros(6,6557)\n",
    "    \n",
    "    eci_1_sized[1:size_eci1[1], 1:size_eci1[2]] = eci_1\n",
    "    eci_2_sized[1:size_eci2[1], 1:size_eci2[2]] = eci_2\n",
    "    eci_3_sized[1:size_eci3[1], 1:size_eci3[2]] = eci_3\n",
    "    eci_4_sized[1:size_eci4[1], 1:size_eci4[2]] = eci_4\n",
    "    \n",
    "    centroid_guess = [(eci_1[1,1]+eci_2[1,1]+eci_3[1,1]+eci_4[1,1])/4, (eci_1[2,1]+eci_2[2,1]+eci_3[2,1]+eci_4[2,1])/4, (eci_1[3,1]+eci_2[3,1]+eci_3[3,1]+eci_4[3,1])/4] \n",
    "    onearth = sECEFtoGEOC(centroid_guess, use_degrees = true)\n",
    "    geodetic = [onearth[1], onearth[2], 0]\n",
    "\n",
    "    #Guess\n",
    "    xyz = sGEOCtoECEF(geodetic, use_degrees = true)*1e-3\n",
    "    \n",
    "    return eci_1_sized, eci_2_sized, eci_3_sized, eci_4_sized, xyz\n",
    "        \n",
    "end"
   ]
  },
  {
   "cell_type": "code",
   "execution_count": 8,
   "id": "963e7dae",
   "metadata": {},
   "outputs": [],
   "source": [
    "#Baseline\n",
    "trueanom = 10\n",
    "RAAN_sep = 2\n",
    "delta_sep = 3\n",
    "altitude = 1200\n",
    "\n",
    "#initial\n",
    "eci_1_s, eci_2_s, eci_3_s, eci_4_s, guess_s = orbit_update(trueanom, RAAN_sep, delta_sep, altitude);\n",
    "\n",
    "# println(\"this is the size of eci_1_s: \", size(eci_1_s))\n",
    "# println(\"this is the size of eci_2_s: \", size(eci_2_s))\n",
    "# println(\"this is the size of eci_3_s: \", size(eci_3_s))\n",
    "# println(\"this is the size of eci_4_s: \", size(eci_4_s))"
   ]
  },
  {
   "cell_type": "code",
   "execution_count": 50,
   "id": "b6236e0d",
   "metadata": {},
   "outputs": [
    {
     "data": {
      "text/plain": [
       "GLMakie.Screen(...)"
      ]
     },
     "execution_count": 50,
     "metadata": {},
     "output_type": "execute_result"
    }
   ],
   "source": [
    "#scene = Scene(backgroundcolor=:black, show_axis=true, resolution=(2048,1024))\n",
    "\n",
    "#earth_mesh = mesh(scene, Sphere(Point3f0(0), 6371f0), color= earth)\n",
    "\n",
    "#F = Figure(backgroundcolor = :black)\n",
    "#ax = Axis(F[1,1], backgroundcolor = :transparent)\n",
    "\n",
    "\n",
    "#mesh!(Sphere(Point3f0(0), 6371f0), color= earth)\n",
    "    \n",
    "    \n",
    "    #println(\"this is svalues: \", svalues)\n",
    "\n",
    "#f = Figure()\n",
    "#f = Figure(resolution=(2048,1024))\n",
    "#Axis(f[1, 1], title = \"Interactive Orbit Plot\")\n",
    "\n",
    "#working before\n",
    "\n",
    "earth = load(download(\"https://svs.gsfc.nasa.gov/vis/a000000/a002900/a002915/bluemarble-2048.png\"));\n",
    "\n",
    "#allows user zoom and drag\n",
    "fig, ax, earth = mesh(Sphere(Point3f0(0), 6371f0), color= earth, figure = (resolution = (1000, 1000),))\n",
    "\n",
    "#works before. Fixes 3D \n",
    "# fig, axis, earth = mesh(Sphere(Point3f0(0), 6371f0), color= earth, figure = (resolution = (1000, 1000),), \n",
    "# axis = (; type = Axis3, protrusions = (0, 0, 0, 0),\n",
    "#         viewmode = :fit, limits = (-7000, 7000, -7000, 7000, -7000, 7000)))\n",
    "\n",
    "# fig, axis, earth = mesh(Sphere(Point3f0(0), 6371f0), color= earth, figure = (resolution = (1000, 1000),) \n",
    "# )\n",
    "\n",
    "\n",
    "\n",
    "#, limits = (-7000, 7000, -7000, 7000, -7000, 7000)\n",
    "\n",
    "\n",
    "\n",
    "wireframe!(axis, Sphere(Point3f0(0), 6371f0), color=(:black, 0.2), linewidth=2, transparency=true)\n",
    "\n",
    "#fig = Figure();\n",
    "\n",
    "#ax = Axis(fig[1,1])\n",
    "\n",
    "#mesh!(Sphere(Point3f0(0), 6371f0), color= earth, figure = (resolution = (1000, 1000),))\n",
    "\n",
    "\n",
    "eci_1_x = Observable(eci_1_s[1,:])\n",
    "eci_2_x = Observable(eci_2_s[1,:])\n",
    "eci_3_x = Observable(eci_3_s[1,:])\n",
    "eci_4_x = Observable(eci_4_s[1,:])\n",
    "\n",
    "eci_1_y = Observable(eci_1_s[2,:])\n",
    "eci_2_y = Observable(eci_2_s[2,:])\n",
    "eci_3_y = Observable(eci_3_s[2,:])\n",
    "eci_4_y = Observable(eci_4_s[2,:])\n",
    "\n",
    "eci_1_z = Observable(eci_1_s[3,:])\n",
    "eci_2_z = Observable(eci_2_s[3,:])\n",
    "eci_3_z = Observable(eci_3_s[3,:])\n",
    "eci_4_z = Observable(eci_4_s[3,:])\n",
    "\n",
    "sats = Observable([Point3f0(eci_1_s[1,1],eci_1_s[2,1],eci_1_s[3,1]), \n",
    "                   Point3f0(eci_2_s[1,1],eci_2_s[2,1],eci_2_s[3,1]),\n",
    "                   Point3f0(eci_3_s[1,1],eci_3_s[2,1],eci_3_s[3,1]),\n",
    "                   Point3f0(eci_4_s[1,1],eci_4_s[2,1],eci_4_s[3,1])])\n",
    "\n",
    "\n",
    "guess = Observable(Point3f0(eci_1_s[1,1],eci_1_s[2,1],eci_1_s[3,1]))\n",
    "\n",
    "lsgrid = labelslidergrid!(\n",
    "    fig,\n",
    "    [\"Orbit Altitude\", \"RAAN Seperation\", \"True Anomaly Seperation\", \"Delta True Anomaly Seperation\"],\n",
    "    [400:100:1200, 1:1:5, 1:0.5:15, 1:1:5];\n",
    "    formats = [x -> \"$(round(x, digits = 1))$s\" for s in [\"km\", \"Degrees\", \"Degrees\", \"Degrees\"]],\n",
    "    width = 500,\n",
    "    tellheight = false)\n",
    "\n",
    "fig[2, 1] = lsgrid.layout\n",
    "\n",
    "sliderobservables = [s.value for s in lsgrid.sliders]\n",
    "bars = lift(sliderobservables...) do slvalues...\n",
    "    values = [slvalues...]\n",
    "    altitude = values[1]\n",
    "    RAAN_sep = values[2]\n",
    "    true_anom = values[3]\n",
    "    delta_true_anom = values[4]\n",
    "    \n",
    "    #println(\"this is values; \", values)\n",
    "    \n",
    "    eci_1_update, eci_2_update, eci_3_update, eci_4_update, xyz = orbit_update(true_anom, RAAN_sep, delta_true_anom, altitude);\n",
    "    \n",
    "    #println(\"this is type: \", typeof(eci_1))\n",
    "    eci_1_x[] = eci_1_update[1,:]\n",
    "    eci_2_x[] = eci_2_update[1,:]\n",
    "    eci_3_x[] = eci_3_update[1,:]\n",
    "    eci_4_x[] = eci_4_update[1,:]\n",
    "    \n",
    "    eci_1_y[] = eci_1_update[2,:]\n",
    "    eci_2_y[] = eci_2_update[2,:]\n",
    "    eci_3_y[] = eci_3_update[2,:]\n",
    "    eci_4_y[] = eci_4_update[2,:]\n",
    "    \n",
    "    eci_1_z[] = eci_1_update[3,:]\n",
    "    eci_2_z[] = eci_2_update[3,:]\n",
    "    eci_3_z[] = eci_3_update[3,:]\n",
    "    eci_4_z[] = eci_4_update[3,:]\n",
    "    \n",
    "    \n",
    "    sats[] = [Point3f0(eci_1_update[1,1],eci_1_update[2,1],eci_1_update[3,1]), \n",
    "                   Point3f0(eci_2_update[1,1],eci_2_update[2,1],eci_2_update[3,1]),\n",
    "                   Point3f0(eci_3_update[1,1],eci_3_update[2,1],eci_3_update[3,1]),\n",
    "                   Point3f0(eci_4_update[1,1],eci_4_update[2,1],eci_4_update[3,1])]\n",
    "    \n",
    "    guess[] = xyz\n",
    "    \n",
    "    end\n",
    "    \n",
    "set_close_to!(lsgrid.sliders[1], 1200)\n",
    "set_close_to!(lsgrid.sliders[2], 2)\n",
    "set_close_to!(lsgrid.sliders[3], 10)\n",
    "set_close_to!(lsgrid.sliders[4], 3)\n",
    "\n",
    "\n",
    "#Plot tag position\n",
    "tagpose = meshscatter!([r0[1]],[r0[2]],[r0[3]], markersize = 150, color=:red, label = \"Tag\")\n",
    "\n",
    "#Plot the Guess\n",
    "guesspose = meshscatter!(guess, markersize = 150, color=:brown, label= \"Guess\")\n",
    "\n",
    "#Plot satellites\n",
    "satpose = meshscatter!(sats, markersize = 150, color=:yellow, label= \"Satellites\")\n",
    "\n",
    "#Good plotting\n",
    "#Plot orbit  of sat 1/2\n",
    "orbit12 = lines!(eci_1_x, eci_1_y, eci_1_z, color = :blue, label= \"Orbit 1/2\")\n",
    "\n",
    "#Plot orbit of sat 3/4\n",
    "orbit34 = lines!(eci_3_x, eci_3_y, eci_3_z, color = :purple, label= \"Orbit 3/4\")\n",
    "\n",
    "\n",
    "\n",
    "#f[1, 2] = Legend(fig, ax, \"Trig Functions\", framevisible = false)\n",
    "\n",
    "# Legend(fig[1, 1],\n",
    "#     [orbit12, orbit34, tagpose, guesspose, satpose],\n",
    "#     [\"Orbit 1/2\", \"Orbit 3/4\", \"Tag\", \"Initial Guess\", \"Satellites\"])\n",
    "\n",
    "\n",
    "\n",
    "display(fig)"
   ]
  },
  {
   "cell_type": "code",
   "execution_count": null,
   "id": "69c09869",
   "metadata": {},
   "outputs": [],
   "source": []
  }
 ],
 "metadata": {
  "@webio": {
   "lastCommId": null,
   "lastKernelId": null
  },
  "kernelspec": {
   "display_name": "Julia 1.6.5",
   "language": "julia",
   "name": "julia-1.6"
  },
  "language_info": {
   "file_extension": ".jl",
   "mimetype": "application/julia",
   "name": "julia",
   "version": "1.6.5"
  }
 },
 "nbformat": 4,
 "nbformat_minor": 5
}
