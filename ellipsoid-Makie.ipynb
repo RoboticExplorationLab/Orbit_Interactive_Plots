{
 "cells": [
  {
   "cell_type": "code",
   "execution_count": 1,
   "id": "2b8059f9",
   "metadata": {},
   "outputs": [
    {
     "data": {
      "text/plain": [
       "334×1 Matrix{Float64}:\n",
       " -1.4307833648859807\n",
       "  1.5255078311044525\n",
       "  2.492455291126251\n",
       " -1.276662713123338\n",
       " -2.5529964660538984\n",
       "  2.072801001435967\n",
       "  1.7046479802483359\n",
       "  0.11460259013989087\n",
       " -0.7385109049140877\n",
       " -1.9505794468379007\n",
       "  0.7873528833639161\n",
       "  0.19006208051689527\n",
       " -0.7707260322314633\n",
       "  ⋮\n",
       " -1.8090214703209402\n",
       "  4.776112738328781\n",
       "  5.031397675977455\n",
       " -3.6989904817764803\n",
       " -0.45515118895673184\n",
       " -2.1089548045430444\n",
       "  2.111607081748978\n",
       " -0.4758102001067933\n",
       "  0.6232868863861056\n",
       " -1.7727179331866796\n",
       "  1.07020492700007\n",
       " -0.06421982339951164"
      ]
     },
     "execution_count": 1,
     "metadata": {},
     "output_type": "execute_result"
    }
   ],
   "source": [
    "#create random data\n",
    "using Distributions\n",
    "using Statistics\n",
    "using LinearAlgebra\n",
    "\n",
    "#d1 = Normal(mu1, 1)\n",
    "#d2 = Normal(mu2, 1)\n",
    "\n",
    "#s = [2 2]\n",
    "#x = randn(334,1)\n",
    "y1 = randn(334,1)\n",
    "y2 = randn(334,1)*2"
   ]
  },
  {
   "cell_type": "code",
   "execution_count": 2,
   "id": "b9f733bf",
   "metadata": {},
   "outputs": [
    {
     "data": {
      "text/plain": [
       "334×2 Matrix{Float64}:\n",
       " -1.14775    -1.43078\n",
       "  2.07175     1.52551\n",
       " -0.631863    2.49246\n",
       " -0.403237   -1.27666\n",
       " -0.0371457  -2.553\n",
       "  0.0317872   2.0728\n",
       " -0.965184    1.70465\n",
       "  0.980168    0.114603\n",
       " -3.02323    -0.738511\n",
       " -1.03959    -1.95058\n",
       "  0.378973    0.787353\n",
       "  0.461894    0.190062\n",
       " -0.18626    -0.770726\n",
       "  ⋮          \n",
       " -0.108725   -1.80902\n",
       " -0.567431    4.77611\n",
       "  0.384018    5.0314\n",
       "  0.673074   -3.69899\n",
       "  0.341479   -0.455151\n",
       " -0.950487   -2.10895\n",
       " -0.0373904   2.11161\n",
       " -0.847533   -0.47581\n",
       " -2.15662     0.623287\n",
       " -0.941222   -1.77272\n",
       "  1.27977     1.0702\n",
       "  0.0224913  -0.0642198"
      ]
     },
     "execution_count": 2,
     "metadata": {},
     "output_type": "execute_result"
    }
   ],
   "source": [
    "data = [y1 y2]"
   ]
  },
  {
   "cell_type": "code",
   "execution_count": 3,
   "id": "b5a70b58",
   "metadata": {},
   "outputs": [
    {
     "data": {
      "text/plain": [
       "2×2 Matrix{Float64}:\n",
       " 4.8881  4.0069\n",
       " 4.0069  5.0643"
      ]
     },
     "execution_count": 3,
     "metadata": {},
     "output_type": "execute_result"
    }
   ],
   "source": [
    "#covariance_matrix = cov(data)\n",
    "\n",
    "covariance_matrix = [4.8881 4.0069; 4.0069 5.0643]"
   ]
  },
  {
   "cell_type": "code",
   "execution_count": 4,
   "id": "4c8c0ca8",
   "metadata": {},
   "outputs": [
    {
     "data": {
      "text/plain": [
       "2-element Vector{Float64}:\n",
       " 0.9683315864913926\n",
       " 8.984068413508606"
      ]
     },
     "execution_count": 4,
     "metadata": {},
     "output_type": "execute_result"
    }
   ],
   "source": [
    "eig_value = eigvals(covariance_matrix)"
   ]
  },
  {
   "cell_type": "code",
   "execution_count": 5,
   "id": "b80e93e9",
   "metadata": {},
   "outputs": [
    {
     "data": {
      "text/plain": [
       "2×2 Matrix{Float64}:\n",
       " -0.714836  0.699292\n",
       "  0.699292  0.714836"
      ]
     },
     "execution_count": 5,
     "metadata": {},
     "output_type": "execute_result"
    }
   ],
   "source": [
    "eig_vecs = eigvecs(covariance_matrix)"
   ]
  },
  {
   "cell_type": "code",
   "execution_count": 6,
   "id": "2468d60b",
   "metadata": {},
   "outputs": [
    {
     "data": {
      "text/plain": [
       "0.9683315864913926"
      ]
     },
     "execution_count": 6,
     "metadata": {},
     "output_type": "execute_result"
    }
   ],
   "source": [
    "max_eigval_index = argmax(eig_value)\n",
    "min_eigval_index = argmin(eig_value)\n",
    "\n",
    "max_eigval = eig_value[max_eigval_index]\n",
    "min_eigval = eig_value[min_eigval_index]"
   ]
  },
  {
   "cell_type": "code",
   "execution_count": 7,
   "id": "cc7aea9e",
   "metadata": {},
   "outputs": [
    {
     "data": {
      "text/plain": [
       "2-element Vector{Float64}:\n",
       " -0.7148362608340606\n",
       "  0.6992918705353144"
      ]
     },
     "execution_count": 7,
     "metadata": {},
     "output_type": "execute_result"
    }
   ],
   "source": [
    "#find largest eigen vector \n",
    "#eig_vec_norm = zeros(size(eig_vecs)[1])\n",
    "#for i=1:size(eig_vecs)[1]\n",
    "#    eig_vec_norm[i] = norm(eig_vecs[:,i])\n",
    "#end\n",
    "\n",
    "#println(eig_vec_norm)\n",
    "#max_eigvec_index = argmax(eig_vec_norm)\n",
    "#min_eigvec_index = argmin(eig_vec_norm)\n",
    "\n",
    "max_eigvec = eig_vecs[:, max_eigval_index]\n",
    "min_eigvec = eig_vecs[:, min_eigval_index]"
   ]
  },
  {
   "cell_type": "code",
   "execution_count": 8,
   "id": "96a08cf9",
   "metadata": {},
   "outputs": [
    {
     "data": {
      "text/plain": [
       "2-element Vector{Float64}:\n",
       " 0.6992918705353144\n",
       " 0.7148362608340606"
      ]
     },
     "execution_count": 8,
     "metadata": {},
     "output_type": "execute_result"
    }
   ],
   "source": [
    "max_eigvec"
   ]
  },
  {
   "cell_type": "code",
   "execution_count": 9,
   "id": "70993d56",
   "metadata": {},
   "outputs": [
    {
     "data": {
      "text/plain": [
       "0.7963899285212613"
      ]
     },
     "execution_count": 9,
     "metadata": {},
     "output_type": "execute_result"
    }
   ],
   "source": [
    "#Calculate angle between x-axis and largest eigenvector \n",
    "#x_axis = [1,0]\n",
    "#angle = acos(dot(max_eigvec, x_axis)/(norm(max_eigvec)*norm(x_axis)))\n",
    "angle = atan(max_eigvec[2], max_eigvec[1])"
   ]
  },
  {
   "cell_type": "code",
   "execution_count": 10,
   "id": "855c0f31",
   "metadata": {},
   "outputs": [
    {
     "data": {
      "text/plain": [
       "-0.007677723305701778"
      ]
     },
     "execution_count": 10,
     "metadata": {},
     "output_type": "execute_result"
    }
   ],
   "source": [
    "if angle<0\n",
    "    angle = angle + 2*pi;\n",
    "end\n",
    "\n",
    "avg = mean(data)"
   ]
  },
  {
   "cell_type": "code",
   "execution_count": 11,
   "id": "862c6a7f",
   "metadata": {},
   "outputs": [],
   "source": [
    "chisquare_val = 2.4477\n",
    "theta_grid = 0:0.01:2*pi\n",
    "\n",
    "phi = angle;\n",
    "X0= avg\n",
    "Y0 = avg\n",
    "a = chisquare_val*sqrt(max_eigval)\n",
    "b = chisquare_val*sqrt(min_eigval)\n",
    "\n",
    "ellipse_x = zeros(size(theta_grid)[1], 1)\n",
    "ellipse_y = zeros(size(theta_grid)[1], 1)\n",
    "\n",
    "for i=1:size(theta_grid)[1]\n",
    "    \n",
    "    #Get ellipse coordinates \n",
    "    ellipse_x[i,1] = a*cos(theta_grid[i])\n",
    "    ellipse_y[i,1] = b*sin(theta_grid[i])\n",
    "    \n",
    "end"
   ]
  },
  {
   "cell_type": "code",
   "execution_count": 12,
   "id": "f4a203fe",
   "metadata": {},
   "outputs": [
    {
     "data": {
      "text/plain": [
       "629×2 Matrix{Float64}:\n",
       " 5.13042  5.24447\n",
       " 5.11295  5.26105\n",
       " 5.09496  5.2771\n",
       " 5.07647  5.29263\n",
       " 5.05747  5.30763\n",
       " 5.03796  5.32209\n",
       " 5.01795  5.33603\n",
       " 4.99743  5.34943\n",
       " 4.97642  5.3623\n",
       " 4.95491  5.37463\n",
       " 4.9329   5.38642\n",
       " 4.9104   5.39767\n",
       " 4.88741  5.40839\n",
       " ⋮        \n",
       " 5.29206  5.02067\n",
       " 5.28048  5.04308\n",
       " 5.26838  5.06498\n",
       " 5.25574  5.08638\n",
       " 5.24259  5.10727\n",
       " 5.2289   5.12765\n",
       " 5.2147   5.14751\n",
       " 5.19997  5.16686\n",
       " 5.18473  5.18569\n",
       " 5.16896  5.20401\n",
       " 5.15268  5.2218\n",
       " 5.13588  5.23907"
      ]
     },
     "execution_count": 12,
     "metadata": {},
     "output_type": "execute_result"
    }
   ],
   "source": [
    "R = [cos(phi) sin(phi); -sin(phi) cos(phi)];\n",
    "r_ellipse = [ellipse_x ellipse_y]*R"
   ]
  },
  {
   "cell_type": "code",
   "execution_count": 13,
   "id": "b2e6e782",
   "metadata": {},
   "outputs": [],
   "source": [
    "using GLMakie"
   ]
  },
  {
   "cell_type": "code",
   "execution_count": 14,
   "id": "179e5fee",
   "metadata": {},
   "outputs": [
    {
     "data": {
      "image/png": "[encoded data removed]",
      "text/plain": [
       "FigureAxisPlot()"
      ]
     },
     "execution_count": 14,
     "metadata": {},
     "output_type": "execute_result"
    }
   ],
   "source": [
    "lines(r_ellipse[:,1], r_ellipse[:,2])"
   ]
  },
  {
   "cell_type": "code",
   "execution_count": null,
   "id": "877308bc",
   "metadata": {},
   "outputs": [],
   "source": []
  }
 ],
 "metadata": {
  "@webio": {
   "lastCommId": null,
   "lastKernelId": null
  },
  "kernelspec": {
   "display_name": "Julia 1.6.5",
   "language": "julia",
   "name": "julia-1.6"
  },
  "language_info": {
   "file_extension": ".jl",
   "mimetype": "application/julia",
   "name": "julia",
   "version": "1.6.5"
  }
 },
 "nbformat": 4,
 "nbformat_minor": 5
}
