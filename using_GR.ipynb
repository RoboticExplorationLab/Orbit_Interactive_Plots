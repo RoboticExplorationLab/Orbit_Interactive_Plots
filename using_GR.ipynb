{
 "cells": [
  {
   "cell_type": "code",
   "execution_count": 10,
   "id": "cf50d734",
   "metadata": {},
   "outputs": [],
   "source": [
    "using GR"
   ]
  },
  {
   "cell_type": "code",
   "execution_count": 17,
   "id": "891b506a",
   "metadata": {},
   "outputs": [
    {
     "ename": "LoadError",
     "evalue": "MethodError: no method matching plot(::GR.SVG)\n\u001b[0mClosest candidates are:\n\u001b[0m  plot(\u001b[91m::Union{AbstractString, Function, AbstractVector{T} where T, AbstractMatrix{T} where T}...\u001b[39m; kv...) at /home/fausto/.julia/packages/GR/bVi3d/src/jlgr.jl:1730",
     "output_type": "error",
     "traceback": [
      "MethodError: no method matching plot(::GR.SVG)\n\u001b[0mClosest candidates are:\n\u001b[0m  plot(\u001b[91m::Union{AbstractString, Function, AbstractVector{T} where T, AbstractMatrix{T} where T}...\u001b[39m; kv...) at /home/fausto/.julia/packages/GR/bVi3d/src/jlgr.jl:1730",
      "",
      "Stacktrace:",
      " [1] top-level scope",
      "   @ In[17]:7",
      " [2] eval",
      "   @ ./boot.jl:360 [inlined]",
      " [3] include_string(mapexpr::typeof(REPL.softscope), mod::Module, code::String, filename::String)",
      "   @ Base ./loading.jl:1116"
     ]
    }
   ],
   "source": [
    "# Create example data\n",
    "s = LinRange(-1, 1, 40)\n",
    "v = 1 .- (s .^ 2 .+ (s .^ 2)' .+ reshape(s,1,1,:) .^ 2) .^ 0.5\n",
    "# Draw an image from a 2d array\n",
    "d = isosurface(v, isovalue=0.1)\n",
    "\n",
    "plot(d)"
   ]
  },
  {
   "cell_type": "code",
   "execution_count": null,
   "id": "57e9df9f",
   "metadata": {},
   "outputs": [],
   "source": []
  }
 ],
 "metadata": {
  "@webio": {
   "lastCommId": null,
   "lastKernelId": null
  },
  "kernelspec": {
   "display_name": "Julia 1.6.5",
   "language": "julia",
   "name": "julia-1.6"
  },
  "language_info": {
   "file_extension": ".jl",
   "mimetype": "application/julia",
   "name": "julia",
   "version": "1.6.5"
  }
 },
 "nbformat": 4,
 "nbformat_minor": 5
}
