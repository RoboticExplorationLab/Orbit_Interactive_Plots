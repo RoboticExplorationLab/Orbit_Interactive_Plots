{
 "cells": [
  {
   "cell_type": "code",
   "execution_count": 3,
   "id": "78face14",
   "metadata": {},
   "outputs": [],
   "source": [
    "using GLMakie, FileIO, Colors\n",
    "using LinearAlgebra\n",
    "using BenchmarkTools\n",
    "using StaticArrays\n",
    "using SatelliteDynamics\n",
    "using DelimitedFiles\n",
    "using ForwardDiff"
   ]
  },
  {
   "cell_type": "code",
   "execution_count": 4,
   "id": "cac8f0a6",
   "metadata": {},
   "outputs": [
    {
     "data": {
      "text/plain": [
       "1"
      ]
     },
     "execution_count": 4,
     "metadata": {},
     "output_type": "execute_result"
    }
   ],
   "source": [
    "const G = 6.67430e-20 #km**3/(kg * s**2)\n",
    "const m_1 = 5.97219e24 #mass of the Earth in kg\n",
    "const m_2 = 1 #mass of satellite in kg\n",
    "const μ = G*m_1\n",
    "const R_earth = 6378.12 # in km\n",
    "h = 1 #time step in seconds"
   ]
  },
  {
   "cell_type": "code",
   "execution_count": 5,
   "id": "de7ec439",
   "metadata": {},
   "outputs": [
    {
     "data": {
      "text/plain": [
       "1"
      ]
     },
     "execution_count": 5,
     "metadata": {},
     "output_type": "execute_result"
    }
   ],
   "source": [
    "distance_scale = R_EARTH*(1e-3) # scales km to custom scale\n",
    "time_scale = 1/(C_LIGHT/R_EARTH) #scales seconds to custom scale\n",
    "\n",
    "c = 1 # 1 distance_unit/ 1 time_unit"
   ]
  },
  {
   "cell_type": "code",
   "execution_count": 6,
   "id": "ec4d2eb8",
   "metadata": {},
   "outputs": [
    {
     "data": {
      "text/plain": [
       "elevation_angle (generic function with 1 method)"
      ]
     },
     "execution_count": 6,
     "metadata": {},
     "output_type": "execute_result"
    }
   ],
   "source": [
    "function elevation_angle(satposes, r0)\n",
    "    \n",
    "    elevangle = zeros(4)\n",
    "    #x = 0\n",
    "    #y = 0\n",
    "\n",
    "    #A,B = horizon(r0[1:3])\n",
    "    #z =  A*(x-r0[1]) + B*(y-r0[2]) + r0[3]\n",
    "\n",
    "    #vector in the horizon plane\n",
    "    #vec_inplane = [x,y,z] - r0[1:3]\n",
    "\n",
    "    #vector between tag and the satellite\n",
    "    normalvec = r0\n",
    "    \n",
    "    for i in 1:4\n",
    "        \n",
    "        vector = satposes[i,:] - r0[1:3]\n",
    "        \n",
    "        #Find the angle between the normal and the vector going from the tag to the satellte\n",
    "        theta = acos(dot(normalvec,vector)/(norm(normalvec)*norm(vector))) * (180/pi)\n",
    "        \n",
    "        #save elevation angle\n",
    "        elevangle[i] = theta\n",
    "    end\n",
    "    \n",
    "    return elevangle\n",
    "end"
   ]
  },
  {
   "cell_type": "code",
   "execution_count": 7,
   "id": "d0f9f0a2",
   "metadata": {},
   "outputs": [
    {
     "data": {
      "text/plain": [
       "sat_dynamics (generic function with 1 method)"
      ]
     },
     "execution_count": 7,
     "metadata": {},
     "output_type": "execute_result"
    }
   ],
   "source": [
    "function sat_dynamics(x)\n",
    "    \n",
    "    sat_pose = SA[x[1], x[2], x[3]]\n",
    "    \n",
    "    #This WORKS\n",
    "    upperleft = @SMatrix zeros(3,3)\n",
    "    upperright = SMatrix{3,3}(1.0I)\n",
    "    lowerleft = SMatrix{3,3}(1I)*(-μ/(norm(sat_pose))^3)\n",
    "    lowerright = @SMatrix zeros(3,3)\n",
    "    \n",
    "    \n",
    "    upper = [upperleft upperright]\n",
    "    lower = [lowerleft lowerright]\n",
    "    \n",
    "    A = [upper; lower]\n",
    "    \n",
    "    xdot = A*x\n",
    "    \n",
    "    return xdot\n",
    "    \n",
    "end"
   ]
  },
  {
   "cell_type": "code",
   "execution_count": 8,
   "id": "4db79e6b",
   "metadata": {},
   "outputs": [
    {
     "data": {
      "text/plain": [
       "RK4_orbit (generic function with 1 method)"
      ]
     },
     "execution_count": 8,
     "metadata": {},
     "output_type": "execute_result"
    }
   ],
   "source": [
    "function RK4_orbit(x, h)\n",
    "    \n",
    "    f1 = sat_dynamics(x)\n",
    "    f2 = sat_dynamics(x+0.5*h*f1)\n",
    "    f3 = sat_dynamics(x+0.5*h*f2)\n",
    "    f4 = sat_dynamics(x+h*f3)\n",
    "    \n",
    "    xnext = x+(h/6.0)*(f1+2*f2+2*f3+f4)\n",
    "\n",
    "    return xnext\n",
    "    \n",
    "end"
   ]
  },
  {
   "cell_type": "code",
   "execution_count": 9,
   "id": "dba8f8a2",
   "metadata": {},
   "outputs": [
    {
     "data": {
      "text/plain": [
       "twobody_rk4 (generic function with 1 method)"
      ]
     },
     "execution_count": 9,
     "metadata": {},
     "output_type": "execute_result"
    }
   ],
   "source": [
    "function twobody_rk4(fun, x0, Tf, h)\n",
    "    \n",
    "    t = Array(range(0,Tf, step=h)) #create a range to final time at constant time step\n",
    "    \n",
    "    all_x = zeros(length(x0), length(t)) #variable to store all x\n",
    "    \n",
    "    all_x[:,1] .= x0 #set the initial state\n",
    "    \n",
    "    for k=1:(length(t) - 1)\n",
    "        all_x[:,k+1] .= RK4_orbit(all_x[:,k], h)\n",
    "    end\n",
    "    \n",
    "    return all_x, t\n",
    "end"
   ]
  },
  {
   "cell_type": "code",
   "execution_count": 10,
   "id": "840f9225",
   "metadata": {},
   "outputs": [
    {
     "data": {
      "text/plain": [
       "4-element Vector{Float64}:\n",
       " -0.9679486083847263\n",
       " -0.2511487826487322\n",
       "  0.0\n",
       "  0.0004700314384940316"
      ]
     },
     "execution_count": 10,
     "metadata": {},
     "output_type": "execute_result"
    }
   ],
   "source": [
    "#Tag position\n",
    "#equator position in cartesian coordinates\n",
    "#tag =[-6.128804e6, -1.590206e6, 776.1502e3]\n",
    "#Equitorial position\n",
    "tag_geof = [-165.4545, 0, 0]\n",
    "\n",
    "#North pole position\n",
    "#tag_geof = [-165.4545, 46.98849, 0]\n",
    "\n",
    "tag = sGEOCtoECEF(tag_geof, use_degrees = true)\n",
    "    \n",
    "#Equitorial Position\n",
    "#In m\n",
    "x0= tag[1]*1e-3\n",
    "y0 = tag[2]*1e-3\n",
    "z0 = tag[3]*1e-3\n",
    "t0 = 1e-5\n",
    "\n",
    "r0 = [x0, y0, z0, t0]\n",
    "r0_scaled = [x0/distance_scale, y0/distance_scale, z0/distance_scale, t0/time_scale]"
   ]
  },
  {
   "cell_type": "code",
   "execution_count": 11,
   "id": "fb4870b4",
   "metadata": {},
   "outputs": [
    {
     "data": {
      "text/plain": [
       "orbit_update (generic function with 1 method)"
      ]
     },
     "execution_count": 11,
     "metadata": {},
     "output_type": "execute_result"
    }
   ],
   "source": [
    "function orbit_update(trueanom, RAAN_sep, delta_sep, altitude)\n",
    "    \n",
    "    iss1 = [6371e3 + (altitude*1e3), 0.0004879, 90.6391, 194.0859- (RAAN_sep/2), 151.2014, 190];\n",
    "    iss2 = [6371e3 + (altitude*1e3), 0.0004879, 90.6391, 194.0859 - (RAAN_sep/2), 151.2014, 190+trueanom];\n",
    "    iss3 = [6371e3 + (altitude*1e3), 0.0004879, 90.6391, 195.0859 + (RAAN_sep/2), 151.2014, 190+delta_sep]; \n",
    "    iss4 = [6371e3 + (altitude*1e3), 0.0004879, 90.6391, 195.0859 + (RAAN_sep/2), 151.2014, 190+delta_sep+trueanom]; \n",
    "    \n",
    "    eci0_1 = sOSCtoCART(iss1, use_degrees=true)\n",
    "    eci0_2 = sOSCtoCART(iss2, use_degrees=true)\n",
    "    eci0_3 = sOSCtoCART(iss3, use_degrees=true)\n",
    "    eci0_4 = sOSCtoCART(iss4, use_degrees=true)\n",
    "    \n",
    "    T = orbit_period(iss1[1])\n",
    "    \n",
    "    #in km\n",
    "    x0_1 = SA[eci0_1[1], eci0_1[2], eci0_1[3],eci0_1[4], eci0_1[5], eci0_1[6]]*1e-3 \n",
    "    x0_2 = SA[eci0_2[1], eci0_2[2], eci0_2[3],eci0_2[4], eci0_2[5], eci0_2[6]]*1e-3 \n",
    "    x0_3 = SA[eci0_3[1], eci0_3[2], eci0_3[3],eci0_3[4], eci0_3[5], eci0_3[6]]*1e-3 \n",
    "    x0_4 = SA[eci0_4[1], eci0_4[2], eci0_4[3],eci0_4[4], eci0_4[5], eci0_4[6]]*1e-3 \n",
    "    \n",
    "    #Find state of orbit 1,2,3,4\n",
    "    eci_1, t_hist1 = twobody_rk4(sat_dynamics, x0_1, T, h)\n",
    "    eci_2, t_hist2 = twobody_rk4(sat_dynamics, x0_2, T, h)\n",
    "    eci_3, t_hist3 = twobody_rk4(sat_dynamics, x0_3, T, h)\n",
    "    eci_4, t_hist4 = twobody_rk4(sat_dynamics, x0_4, T, h)\n",
    "    \n",
    "    #6557 is the size of the array when it is at 1200. Need to make it a fixed size to be able to make it \n",
    "    #interactive\n",
    "    \n",
    "    size_eci1 = size(eci_1)\n",
    "    size_eci2 = size(eci_2)\n",
    "    size_eci3 = size(eci_3)\n",
    "    size_eci4 = size(eci_4)\n",
    "    \n",
    "    eci_1_sized = zeros(6,6557)\n",
    "    eci_2_sized = zeros(6,6557)\n",
    "    eci_3_sized = zeros(6,6557)\n",
    "    eci_4_sized = zeros(6,6557)\n",
    "    \n",
    "    eci_1_sized[1:size_eci1[1], 1:size_eci1[2]] = eci_1\n",
    "    eci_2_sized[1:size_eci2[1], 1:size_eci2[2]] = eci_2\n",
    "    eci_3_sized[1:size_eci3[1], 1:size_eci3[2]] = eci_3\n",
    "    eci_4_sized[1:size_eci4[1], 1:size_eci4[2]] = eci_4\n",
    "    \n",
    "    centroid_guess = [(eci_1[1,1]+eci_2[1,1]+eci_3[1,1]+eci_4[1,1])/4, (eci_1[2,1]+eci_2[2,1]+eci_3[2,1]+eci_4[2,1])/4, (eci_1[3,1]+eci_2[3,1]+eci_3[3,1]+eci_4[3,1])/4] \n",
    "    onearth = sECEFtoGEOC(centroid_guess, use_degrees = true)\n",
    "    geodetic = [onearth[1], onearth[2], 0]\n",
    "\n",
    "    #Guess\n",
    "    xyz = sGEOCtoECEF(geodetic, use_degrees = true)*1e-3\n",
    "    \n",
    "    return eci_1_sized, eci_2_sized, eci_3_sized, eci_4_sized, xyz\n",
    "        \n",
    "end"
   ]
  },
  {
   "cell_type": "code",
   "execution_count": 12,
   "id": "963e7dae",
   "metadata": {},
   "outputs": [],
   "source": [
    "#Baseline\n",
    "trueanom = 10\n",
    "RAAN_sep = 2\n",
    "delta_sep = 3\n",
    "altitude = 1200\n",
    "\n",
    "#initial\n",
    "eci_1_s, eci_2_s, eci_3_s, eci_4_s, guess_s = orbit_update(trueanom, RAAN_sep, delta_sep, altitude);\n",
    "\n",
    "# println(\"this is the size of eci_1_s: \", size(eci_1_s))\n",
    "# println(\"this is the size of eci_2_s: \", size(eci_2_s))\n",
    "# println(\"this is the size of eci_3_s: \", size(eci_3_s))\n",
    "# println(\"this is the size of eci_4_s: \", size(eci_4_s))"
   ]
  },
  {
   "cell_type": "code",
   "execution_count": 13,
   "id": "970d0de1",
   "metadata": {},
   "outputs": [
    {
     "data": {
      "text/plain": [
       "32×32 Matrix{Float64}:\n",
       "  2.48895e-16  -9.03807e-18  -7.8636e-19   …   0.0           0.0\n",
       " -9.03807e-18   2.57148e-16  -4.57434e-18      0.0           0.0\n",
       " -7.8636e-19   -4.57434e-18   2.35897e-16      0.0           0.0\n",
       " -4.92783e-17  -4.34225e-16  -5.73703e-16      0.0           0.0\n",
       "  0.0           0.0           0.0              0.0           0.0\n",
       "  0.0           0.0           0.0          …   0.0           0.0\n",
       "  0.0           0.0           0.0              0.0           0.0\n",
       "  0.0           0.0           0.0              0.0           0.0\n",
       "  0.0           0.0           0.0              0.0           0.0\n",
       "  0.0           0.0           0.0              0.0           0.0\n",
       "  0.0           0.0           0.0          …   0.0           0.0\n",
       "  0.0           0.0           0.0              0.0           0.0\n",
       "  0.0           0.0           0.0              0.0           0.0\n",
       "  ⋮                                        ⋱   ⋮            \n",
       "  0.0           0.0           0.0          …   0.0           0.0\n",
       "  0.0           0.0           0.0              0.0           0.0\n",
       "  0.0           0.0           0.0              0.0           0.0\n",
       "  0.0           0.0           0.0              0.0           0.0\n",
       "  0.0           0.0           0.0              0.0           0.0\n",
       "  0.0           0.0           0.0          …   0.0           0.0\n",
       "  0.0           0.0           0.0              0.0           0.0\n",
       "  0.0           0.0           0.0              0.0           0.0\n",
       "  0.0           0.0           0.0             -5.98278e-18  -2.83543e-16\n",
       "  0.0           0.0           0.0              2.47531e-18   1.96789e-16\n",
       "  0.0           0.0           0.0          …   2.51479e-16   1.8156e-16\n",
       "  0.0           0.0           0.0              1.8156e-16    8.83403e-13"
      ]
     },
     "execution_count": 13,
     "metadata": {},
     "output_type": "execute_result"
    }
   ],
   "source": [
    "Pin_read = readdlm(\"sat_cov_TOA_2freq.txt\")"
   ]
  },
  {
   "cell_type": "code",
   "execution_count": 14,
   "id": "9d7db86a",
   "metadata": {},
   "outputs": [
    {
     "data": {
      "text/plain": [
       "measurment_residual (generic function with 1 method)"
      ]
     },
     "execution_count": 14,
     "metadata": {},
     "output_type": "execute_result"
    }
   ],
   "source": [
    "function measurment_residual(r0, satposes,zenith, t)\n",
    "    \n",
    "    omega = OMEGA_EARTH*time_scale\n",
    "    \n",
    "    scale_f1 = (40.3/(f1)^2)*1e22\n",
    "    scale_f2 = (40.3/(f2)^2)*1e22\n",
    "    \n",
    "    angles = zeros(4)\n",
    "    \n",
    "    for i=1:4\n",
    "        angles[i] = asind((R_EARTH*sind(zenith[i]))/(R_EARTH + hi))\n",
    "    end\n",
    "    \n",
    "    A1 = [cos(omega*t[1]) sin(omega*t[1]) 0;\n",
    "          -sin(omega*t[1]) cos(omega*t[1]) 0;\n",
    "          0 0 1];\n",
    "    A2 = [cos(omega*t[2]) sin(omega*t[2]) 0;\n",
    "          -sin(omega*t[2]) cos(omega*t[2]) 0;\n",
    "          0 0 1];\n",
    "    A3 = [cos(omega*t[3]) sin(omega*t[3]) 0;\n",
    "          -sin(omega*t[3]) cos(omega*t[3]) 0;\n",
    "          0 0 1];\n",
    "    A4 = [cos(omega*t[4]) sin(omega*t[4]) 0;\n",
    "          -sin(omega*t[4]) cos(omega*t[4]) 0;\n",
    "          0 0 1];\n",
    "    A5 = [cos(omega*t[5]) sin(omega*t[5]) 0;\n",
    "          -sin(omega*t[5]) cos(omega*t[5]) 0;\n",
    "          0 0 1];\n",
    "    A6 = [cos(omega*t[6]) sin(omega*t[6]) 0;\n",
    "          -sin(omega*t[6]) cos(omega*t[6]) 0;\n",
    "          0 0 1];\n",
    "    A7 = [cos(omega*t[7]) sin(omega*t[7]) 0;\n",
    "          -sin(omega*t[7]) cos(omega*t[7]) 0;\n",
    "          0 0 1];\n",
    "    A8 = [cos(omega*t[8]) sin(omega*t[8]) 0;\n",
    "          -sin(omega*t[8]) cos(omega*t[8]) 0;\n",
    "          0 0 1];\n",
    "    \n",
    "    res1 = norm(r0[1:3] - A1*satposes[1,1:3]) - c*(t[1] - r0[4]) + (scale_f1*(r0[5]/cosd(angles[1])))*(1e-3)/distance_scale;\n",
    "    res2 = norm(r0[1:3] - A2*satposes[2,1:3]) - c*(t[2] - r0[4]) + (scale_f1*(r0[6]/cosd(angles[2])))*(1e-3)/distance_scale;\n",
    "    res3 = norm(r0[1:3] - A3*satposes[3,1:3]) - c*(t[3] - r0[4]) + (scale_f1*(r0[7]/cosd(angles[3])))*(1e-3)/distance_scale;\n",
    "    res4 = norm(r0[1:3] - A4*satposes[4,1:3]) - c*(t[4] - r0[4]) + (scale_f1*(r0[8]/cosd(angles[4])))*(1e-3)/distance_scale;\n",
    "    res5 = norm(r0[1:3] - A5*satposes[1,1:3]) - c*(t[5] - r0[4]) + (scale_f2*(r0[5]/cosd(angles[1])))*(1e-3)/distance_scale;\n",
    "    res6 = norm(r0[1:3] - A6*satposes[2,1:3]) - c*(t[6] - r0[4]) + (scale_f2*(r0[6]/cosd(angles[2])))*(1e-3)/distance_scale;\n",
    "    res7 = norm(r0[1:3] - A7*satposes[3,1:3]) - c*(t[7] - r0[4]) + (scale_f2*(r0[7]/cosd(angles[3])))*(1e-3)/distance_scale;\n",
    "    res8 = norm(r0[1:3] - A8*satposes[4,1:3]) - c*(t[8] - r0[4]) + (scale_f2*(r0[8]/cosd(angles[4])))*(1e-3)/distance_scale;\n",
    "    \n",
    "    return [res1, res2, res3, res4, res5, res6, res7, res8]\n",
    "    \n",
    "end"
   ]
  },
  {
   "cell_type": "code",
   "execution_count": 15,
   "id": "1696f425",
   "metadata": {},
   "outputs": [
    {
     "data": {
      "text/plain": [
       "residual (generic function with 1 method)"
      ]
     },
     "execution_count": 15,
     "metadata": {},
     "output_type": "execute_result"
    }
   ],
   "source": [
    "function residual(x, sat_pose_t, zenith)\n",
    "    \n",
    "    omega = OMEGA_EARTH*time_scale\n",
    "    \n",
    "    angles = zeros(4)\n",
    "    \n",
    "    for i=1:4\n",
    "        angles[i] = asind((R_EARTH*sind(zenith[i]))/(R_EARTH + hi))\n",
    "    end\n",
    "\n",
    "    scale_f1 = (40.3/(f1)^2)*1e22\n",
    "    scale_f2 = (40.3/(f2)^2)*1e22\n",
    "    \n",
    "    A1 = [cos(omega*sat_pose_t[1,4]) sin(omega*sat_pose_t[1,4]) 0;\n",
    "          -sin(omega*sat_pose_t[1,4]) cos(omega*sat_pose_t[1,4]) 0;\n",
    "          0 0 1];\n",
    "    A2 = [cos(omega*sat_pose_t[2,4]) sin(omega*sat_pose_t[2,4]) 0;\n",
    "          -sin(omega*sat_pose_t[2,4]) cos(omega*sat_pose_t[2,4]) 0;\n",
    "          0 0 1];\n",
    "    A3 = [cos(omega*sat_pose_t[3,4]) sin(omega*sat_pose_t[3,4]) 0;\n",
    "          -sin(omega*sat_pose_t[3,4]) cos(omega*sat_pose_t[3,4]) 0;\n",
    "          0 0 1];\n",
    "    A4 = [cos(omega*sat_pose_t[4,4]) sin(omega*sat_pose_t[4,4]) 0;\n",
    "          -sin(omega*sat_pose_t[4,4]) cos(omega*sat_pose_t[4,4]) 0;\n",
    "          0 0 1];\n",
    "    A5 = [cos(omega*sat_pose_t[5,4]) sin(omega*sat_pose_t[5,4]) 0;\n",
    "          -sin(omega*sat_pose_t[5,4]) cos(omega*sat_pose_t[5,4]) 0;\n",
    "          0 0 1];\n",
    "    A6 = [cos(omega*sat_pose_t[6,4]) sin(omega*sat_pose_t[6,4]) 0;\n",
    "          -sin(omega*sat_pose_t[6,4]) cos(omega*sat_pose_t[6,4]) 0;\n",
    "          0 0 1];\n",
    "    A7 = [cos(omega*sat_pose_t[7,4]) sin(omega*sat_pose_t[7,4]) 0;\n",
    "          -sin(omega*sat_pose_t[7,4]) cos(omega*sat_pose_t[7,4]) 0;\n",
    "          0 0 1];\n",
    "    A8 = [cos(omega*sat_pose_t[8,4]) sin(omega*sat_pose_t[8,4]) 0;\n",
    "          -sin(omega*sat_pose_t[8,4]) cos(omega*sat_pose_t[8,4]) 0;\n",
    "          0 0 1];\n",
    "    \n",
    "    res1 = norm(x[1:3] - A1*sat_pose_t[1,1:3]) - c*(sat_pose_t[1,4] - x[4]) + (scale_f1*(x[5]/cosd(angles[1])))*(1e-3)/distance_scale;\n",
    "    res2 = norm(x[1:3] - A2*sat_pose_t[2,1:3]) - c*(sat_pose_t[2,4] - x[4]) + (scale_f1*(x[6]/cosd(angles[2])))*(1e-3)/distance_scale;\n",
    "    res3 = norm(x[1:3] - A3*sat_pose_t[3,1:3]) - c*(sat_pose_t[3,4] - x[4]) + (scale_f1*(x[7]/cosd(angles[3])))*(1e-3)/distance_scale;\n",
    "    res4 = norm(x[1:3] - A4*sat_pose_t[4,1:3]) - c*(sat_pose_t[4,4] - x[4]) + (scale_f1*(x[8]/cosd(angles[4])))*(1e-3)/distance_scale;\n",
    "    res5 = norm(x[1:3] - A5*sat_pose_t[1,1:3]) - c*(sat_pose_t[5,4] - x[4]) + (scale_f2*(x[5]/cosd(angles[1])))*(1e-3)/distance_scale;\n",
    "    res6 = norm(x[1:3] - A6*sat_pose_t[2,1:3]) - c*(sat_pose_t[6,4] - x[4]) + (scale_f2*(x[6]/cosd(angles[2])))*(1e-3)/distance_scale;\n",
    "    res7 = norm(x[1:3] - A7*sat_pose_t[3,1:3]) - c*(sat_pose_t[7,4] - x[4]) + (scale_f2*(x[7]/cosd(angles[3])))*(1e-3)/distance_scale;\n",
    "    res8 = norm(x[1:3] - A8*sat_pose_t[4,1:3]) - c*(sat_pose_t[8,4] - x[4]) + (scale_f2*(x[8]/cosd(angles[4])))*(1e-3)/distance_scale;\n",
    "    \n",
    "    return [res1, res2, res3, res4, res5, res6, res7, res8]\n",
    "    \n",
    "end"
   ]
  },
  {
   "cell_type": "code",
   "execution_count": 16,
   "id": "08cb456f",
   "metadata": {},
   "outputs": [
    {
     "data": {
      "text/plain": [
       "get_time (generic function with 1 method)"
      ]
     },
     "execution_count": 16,
     "metadata": {},
     "output_type": "execute_result"
    }
   ],
   "source": [
    "function get_time(r0_TEC, satposes, zenith)\n",
    "    \n",
    "    n = 1000\n",
    "\n",
    "    time = [zeros(8) for i = 1:1000]\n",
    "    Rt = [zeros(8) for i = 1:1000]\n",
    "\n",
    "    time[1] = [0.1\\time_scale, 0.1\\time_scale, 0.1\\time_scale, 0.1\\time_scale, 0.1\\time_scale, 0.1\\time_scale, 0.1\\time_scale, 0.1\\time_scale] #initial guess\n",
    "\n",
    "    Rt[1] = measurment_residual(r0_TEC, satposes, zenith, time[1])\n",
    "\n",
    "    iters = 0\n",
    "\n",
    "    for i=1:n\n",
    "\n",
    "        Rt[i] = measurment_residual(r0_TEC, satposes, zenith, time[i])\n",
    "\n",
    "        #println(\"this is norm of residual: \", norm(Rt[i]))\n",
    "        \n",
    "        iters += 1\n",
    "\n",
    "        if(norm(Rt[i]) < 1e-6)\n",
    "            break\n",
    "        end\n",
    "\n",
    "        jacobian = ForwardDiff.jacobian(dt -> measurment_residual(r0_TEC, satposes, zenith, dt), time[i])\n",
    "\n",
    "        deltat = (jacobian)\\-Rt[i]\n",
    "\n",
    "        time[i+1]  = time[i] + deltat\n",
    "    end\n",
    "    \n",
    "    Rt = Rt[1:iters]\n",
    "    time = time[1:iters]\n",
    "    time_measurment = time[end]\n",
    "    \n",
    "    return time_measurment\n",
    "    \n",
    "end"
   ]
  },
  {
   "cell_type": "code",
   "execution_count": 17,
   "id": "156702b5",
   "metadata": {},
   "outputs": [
    {
     "data": {
      "text/plain": [
       "6.0e8"
      ]
     },
     "execution_count": 17,
     "metadata": {},
     "output_type": "execute_result"
    }
   ],
   "source": [
    "#frequency variables\n",
    "f1 = 400e6 #in Hz\n",
    "f2 = 600e6  #in Hz"
   ]
  },
  {
   "cell_type": "code",
   "execution_count": 18,
   "id": "dd421ec8",
   "metadata": {},
   "outputs": [
    {
     "data": {
      "text/plain": [
       "LS_Amatrix (generic function with 1 method)"
      ]
     },
     "execution_count": 18,
     "metadata": {},
     "output_type": "execute_result"
    }
   ],
   "source": [
    "function LS_Amatrix(x, y, scale, A, angle)\n",
    "    #works\n",
    "    #jacobian_pose = (x[1:3] - A'*y[1:3])/norm(y[1:3]-A*x[1:3])\n",
    "    \n",
    "    jacobian_pose = (x[1:3] - A*y[1:3])/norm(x[1:3]-A*y[1:3])\n",
    "    \n",
    "    #jacobian_pose = (x0[1:3] - r_sat[1:3])/norm(r_sat[1:3]-x0[1:3])\n",
    "    \n",
    "    dpdtau = c\n",
    "    dpdTEC = (scale/cosd(angle))*(1e-3)/distance_scale\n",
    "    \n",
    "    return [jacobian_pose; dpdtau; dpdTEC]\n",
    "end"
   ]
  },
  {
   "cell_type": "code",
   "execution_count": 19,
   "id": "fd3bab54",
   "metadata": {},
   "outputs": [
    {
     "data": {
      "text/plain": [
       "LS_Amatrix_dpdy (generic function with 1 method)"
      ]
     },
     "execution_count": 19,
     "metadata": {},
     "output_type": "execute_result"
    }
   ],
   "source": [
    "function LS_Amatrix_dpdy(x, y, scale, A, angle)\n",
    "    \n",
    "    #c = C_LIGHT\n",
    "    \n",
    "    #works\n",
    "    jacobian_pose = (y[1:3] - A'*x[1:3])/norm(x[1:3]-A*y[1:3])\n",
    "    \n",
    "    dpdtau = -c\n",
    "    \n",
    "    return [jacobian_pose; dpdtau]\n",
    "end"
   ]
  },
  {
   "cell_type": "code",
   "execution_count": 20,
   "id": "f758cd1e",
   "metadata": {},
   "outputs": [
    {
     "data": {
      "text/plain": [
       "customjacobian (generic function with 1 method)"
      ]
     },
     "execution_count": 20,
     "metadata": {},
     "output_type": "execute_result"
    }
   ],
   "source": [
    "function customjacobian(initial_x0,sat_pose_t, elev_angles)\n",
    "    c=1\n",
    "    #println(\"this is initial x0: \", initial_x0)\n",
    "    #println(\"this is sat pose t: \", sat_pose_t)\n",
    "    #println(\"this is elev angles: \", elev_angles)\n",
    "    \n",
    "    while norm(residual(initial_x0, sat_pose_t, elev_angles))>1e-10\n",
    "        \n",
    "        #println(\"this is residual: \", residual(initial_x0, sat_pose_t, elev_angles))\n",
    "        #println(\"this is residual: \", norm(residual(initial_x0, sat_pose_t, elev_angles)))\n",
    "        omega = OMEGA_EARTH*time_scale\n",
    "\n",
    "\n",
    "        angles = zeros(4)\n",
    "\n",
    "        for i=1:4\n",
    "            angles[i] = asind((R_EARTH*sind(elev_angles[i]))/(R_EARTH + hi))\n",
    "        end\n",
    "\n",
    "        scale_f1 = (40.3/(f1)^2)*1e22\n",
    "        scale_f2 = (40.3/(f2)^2)*1e22\n",
    "\n",
    "        A1 = [cos(omega*sat_pose_t[1,4]) sin(omega*sat_pose_t[1,4]) 0;\n",
    "              -sin(omega*sat_pose_t[1,4]) cos(omega*sat_pose_t[1,4]) 0;\n",
    "              0 0 1];\n",
    "        A2 = [cos(omega*sat_pose_t[2,4]) sin(omega*sat_pose_t[2,4]) 0;\n",
    "              -sin(omega*sat_pose_t[2,4]) cos(omega*sat_pose_t[2,4]) 0;\n",
    "              0 0 1];\n",
    "        A3 = [cos(omega*sat_pose_t[3,4]) sin(omega*sat_pose_t[3,4]) 0;\n",
    "              -sin(omega*sat_pose_t[3,4]) cos(omega*sat_pose_t[3,4]) 0;\n",
    "              0 0 1];\n",
    "        A4 = [cos(omega*sat_pose_t[4,4]) sin(omega*sat_pose_t[4,4]) 0;\n",
    "              -sin(omega*sat_pose_t[4,4]) cos(omega*sat_pose_t[4,4]) 0;\n",
    "              0 0 1];\n",
    "        A5 = [cos(omega*sat_pose_t[5,4]) sin(omega*sat_pose_t[5,4]) 0;\n",
    "              -sin(omega*sat_pose_t[5,4]) cos(omega*sat_pose_t[5,4]) 0;\n",
    "              0 0 1];\n",
    "        A6 = [cos(omega*sat_pose_t[6,4]) sin(omega*sat_pose_t[6,4]) 0;\n",
    "              -sin(omega*sat_pose_t[6,4]) cos(omega*sat_pose_t[6,4]) 0;\n",
    "              0 0 1];\n",
    "        A7 = [cos(omega*sat_pose_t[7,4]) sin(omega*sat_pose_t[7,4]) 0;\n",
    "              -sin(omega*sat_pose_t[7,4]) cos(omega*sat_pose_t[7,4]) 0;\n",
    "              0 0 1];\n",
    "        A8 = [cos(omega*sat_pose_t[8,4]) sin(omega*sat_pose_t[8,4]) 0;\n",
    "              -sin(omega*sat_pose_t[8,4]) cos(omega*sat_pose_t[8,4]) 0;\n",
    "              0 0 1];\n",
    "\n",
    "        P_computed1  = norm(initial_x0[1:3] - A1*sat_pose_t[1,1:3]) - c*(sat_pose_t[1,4] - initial_x0[4]) + (scale_f1*(initial_x0[5]/cosd(angles[1])))*(1e-3)/distance_scale;\n",
    "        P_computed2  = norm(initial_x0[1:3] - A2*sat_pose_t[2,1:3]) - c*(sat_pose_t[2,4] - initial_x0[4]) + (scale_f1*(initial_x0[6]/cosd(angles[2])))*(1e-3)/distance_scale;\n",
    "        P_computed3  = norm(initial_x0[1:3] - A3*sat_pose_t[3,1:3]) - c*(sat_pose_t[3,4] - initial_x0[4]) + (scale_f1*(initial_x0[7]/cosd(angles[3])))*(1e-3)/distance_scale;\n",
    "        P_computed4  = norm(initial_x0[1:3] - A4*sat_pose_t[4,1:3]) - c*(sat_pose_t[4,4] - initial_x0[4]) + (scale_f1*(initial_x0[8]/cosd(angles[4])))*(1e-3)/distance_scale;\n",
    "        P_computed5  = norm(initial_x0[1:3] - A5*sat_pose_t[5,1:3]) - c*(sat_pose_t[5,4] - initial_x0[4]) + (scale_f2*(initial_x0[5]/cosd(angles[1])))*(1e-3)/distance_scale;\n",
    "        P_computed6  = norm(initial_x0[1:3] - A6*sat_pose_t[6,1:3]) - c*(sat_pose_t[6,4] - initial_x0[4]) + (scale_f2*(initial_x0[6]/cosd(angles[2])))*(1e-3)/distance_scale;\n",
    "        P_computed7  = norm(initial_x0[1:3] - A7*sat_pose_t[7,1:3]) - c*(sat_pose_t[7,4] - initial_x0[4]) + (scale_f2*(initial_x0[7]/cosd(angles[3])))*(1e-3)/distance_scale;\n",
    "        P_computed8  = norm(initial_x0[1:3] - A8*sat_pose_t[8,1:3]) - c*(sat_pose_t[8,4] - initial_x0[4]) + (scale_f2*(initial_x0[8]/cosd(angles[4])))*(1e-3)/distance_scale;\n",
    "\n",
    "        #P_computed1 = norm(all_sats_scaled[1,1:3]-x0[1:3]) + c*x0[4] - c*all_sats_scaled[1,4]\n",
    "        #P_computed2 = norm(all_sats_scaled[2,1:3]-x0[1:3]) + c*x0[4] - c*all_sats_scaled[2,4]\n",
    "        #P_computed3 = norm(all_sats_scaled[3,1:3]-x0[1:3]) + c*x0[4] - c*all_sats_scaled[3,4]\n",
    "        #P_computed4 = norm(all_sats_scaled[4,1:3]-x0[1:3]) + c*x0[4] - c*all_sats_scaled[4,4]\n",
    "\n",
    "        P_computed = [P_computed1, P_computed2, P_computed3, P_computed4, P_computed5, P_computed6, P_computed7, P_computed8]\n",
    "\n",
    "        P_observed = zeros(8)\n",
    "\n",
    "        deltaP = P_observed - P_computed\n",
    "\n",
    "        #println(\"this is delta P: \", norm(deltaP))\n",
    "        A = zeros(8,8)\n",
    "\n",
    "        A_row1 = LS_Amatrix(initial_x0, sat_pose_t[1,:], scale_f1, A1, angles[1])'\n",
    "        A_row2 = LS_Amatrix(initial_x0, sat_pose_t[2,:], scale_f1, A2, angles[2])'\n",
    "        A_row3 = LS_Amatrix(initial_x0, sat_pose_t[3,:], scale_f1, A3, angles[3])'\n",
    "        A_row4 = LS_Amatrix(initial_x0, sat_pose_t[4,:], scale_f1, A4, angles[4])'\n",
    "        A_row5 = LS_Amatrix(initial_x0, sat_pose_t[5,:], scale_f2, A5, angles[1])'\n",
    "        A_row6 = LS_Amatrix(initial_x0, sat_pose_t[6,:], scale_f2, A6, angles[2])'\n",
    "        A_row7 = LS_Amatrix(initial_x0, sat_pose_t[7,:], scale_f2, A7, angles[3])'\n",
    "        A_row8 = LS_Amatrix(initial_x0, sat_pose_t[8,:], scale_f2, A8, angles[4])'\n",
    "\n",
    "        #println(\"this is A_row1: \", A_row1)\n",
    "\n",
    "        A[1,:] = [A_row1[1:5]; zeros(3)]\n",
    "        A[2,:] = [A_row2[1:4];0.0; A_row2[5]; zeros(2)]\n",
    "        A[3,:] = [A_row3[1:4];zeros(2); A_row3[5]; 0.0]\n",
    "        A[4,:] = [A_row4[1:4];zeros(3); A_row4[5]]\n",
    "        A[5,:] = [A_row5[1:5]; zeros(3)]\n",
    "        A[6,:] = [A_row6[1:4];0.0; A_row6[5]; zeros(2)]\n",
    "        A[7,:] = [A_row7[1:4];zeros(2); A_row7[5]; 0.0]\n",
    "        A[8,:] = [A_row8[1:4];zeros(3); A_row8[5]]\n",
    "\n",
    "        #println(\"this is the jacobian: \", A)\n",
    "\n",
    "        #println(size(A))\n",
    "    #     A = [A_row1 zeros(3)';\n",
    "    #          A_row2[1:4] A_row2[5] zeros(3)']\n",
    "\n",
    "        #; A_row2[1:4] 0 A_row2[5] zeros(3)'\n",
    "\n",
    "    #     println(A_row1)\n",
    "    #     println(A_row2)\n",
    "    #     println(A)\n",
    "    #     println(size(A))\n",
    "    #     println(A_row2)\n",
    "    #     println(A_row3)\n",
    "    #     println(A_row4)\n",
    "\n",
    "        #Need to reformat this A matrix\n",
    "        #A = vcat(LS_Amatrix(x0, sat_pose_t[1,:], scale_f1, A1, angles[1])', LS_Amatrix(x0, sat_pose_t[2,:], scale_f1, angles[2])', LS_Amatrix(x0, sat_pose_t[3,:], scale_f1, angles[3])', LS_Amatrix(x0, sat_pose_t[4,:], scale_f1, angles[4])', \n",
    "        #         LS_Amatrix(x0, sat_pose_t[1,:], scale_f2, angles[1])', LS_Amatrix(x0, sat_pose_t[2,:], scale_f2, angles[2])', LS_Amatrix(x0, sat_pose_t[3,:], scale_f2, angles[3])', LS_Amatrix(x0, sat_pose_t[4,:], scale_f2, angles[4])')\n",
    "\n",
    "        #println(\"solving QR decomp\")\n",
    "        F = qr(A)\n",
    "\n",
    "        b = transpose(F.Q)*deltaP\n",
    "        #println(\"solving system\")\n",
    "        deltax = F.R\\b\n",
    "        #println(\"deltax solved\")\n",
    "        #theresidual = residual(initial_x0, sat_pose_t, elev_angles)\n",
    "\n",
    "        #println(theresidual)\n",
    "\n",
    "        #println(\"this is the residual: \", norm(theresidual))\n",
    "\n",
    "\n",
    "        #println(\"this is delta x: \", deltax)\n",
    "        initial_x0 = initial_x0+deltax\n",
    "\n",
    "\n",
    "    end\n",
    "\n",
    "    x_sol = initial_x0\n",
    "    #x_sol_rescaled = [x_sol[1]*distance_scale*1e3,x_sol[2]*distance_scale*1e3,x_sol[3]*distance_scale*1e3, x_sol[4]*time_scale, x_sol[5], x_sol[6], x_sol[7], x_sol[8]]\n",
    "    \n",
    "    return x_sol\n",
    "    \n",
    "end\n",
    "#println(\"this is x_solution rescaled: \", x_sol_rescaled)"
   ]
  },
  {
   "cell_type": "code",
   "execution_count": 21,
   "id": "cf5581e2",
   "metadata": {},
   "outputs": [
    {
     "data": {
      "text/plain": [
       "createA (generic function with 1 method)"
      ]
     },
     "execution_count": 21,
     "metadata": {},
     "output_type": "execute_result"
    }
   ],
   "source": [
    "function createA(sat_pose_t, elev_angles, x_sol)\n",
    "    \n",
    "    omega = OMEGA_EARTH*time_scale #scaled\n",
    "\n",
    "    angles = zeros(4)\n",
    "\n",
    "    for i=1:4\n",
    "        angles[i] = asind((R_EARTH*sind(elev_angles[i]))/(R_EARTH + hi))\n",
    "    end\n",
    "\n",
    "    scale_f1 = (40.3/(f1)^2)*1e22\n",
    "    scale_f2 = (40.3/(f2)^2)*1e22\n",
    "\n",
    "    A1 = [cos(omega*sat_pose_t[1,4]) sin(omega*sat_pose_t[1,4]) 0;\n",
    "          -sin(omega*sat_pose_t[1,4]) cos(omega*sat_pose_t[1,4]) 0;\n",
    "          0 0 1];\n",
    "    A2 = [cos(omega*sat_pose_t[2,4]) sin(omega*sat_pose_t[2,4]) 0;\n",
    "          -sin(omega*sat_pose_t[2,4]) cos(omega*sat_pose_t[2,4]) 0;\n",
    "          0 0 1];\n",
    "    A3 = [cos(omega*sat_pose_t[3,4]) sin(omega*sat_pose_t[3,4]) 0;\n",
    "          -sin(omega*sat_pose_t[3,4]) cos(omega*sat_pose_t[3,4]) 0;\n",
    "          0 0 1];\n",
    "    A4 = [cos(omega*sat_pose_t[4,4]) sin(omega*sat_pose_t[4,4]) 0;\n",
    "          -sin(omega*sat_pose_t[4,4]) cos(omega*sat_pose_t[4,4]) 0;\n",
    "          0 0 1];\n",
    "    A5 = [cos(omega*sat_pose_t[5,4]) sin(omega*sat_pose_t[5,4]) 0;\n",
    "          -sin(omega*sat_pose_t[5,4]) cos(omega*sat_pose_t[5,4]) 0;\n",
    "          0 0 1];\n",
    "    A6 = [cos(omega*sat_pose_t[6,4]) sin(omega*sat_pose_t[6,4]) 0;\n",
    "          -sin(omega*sat_pose_t[6,4]) cos(omega*sat_pose_t[6,4]) 0;\n",
    "          0 0 1];\n",
    "    A7 = [cos(omega*sat_pose_t[7,4]) sin(omega*sat_pose_t[7,4]) 0;\n",
    "          -sin(omega*sat_pose_t[7,4]) cos(omega*sat_pose_t[7,4]) 0;\n",
    "          0 0 1];\n",
    "    A8 = [cos(omega*sat_pose_t[8,4]) sin(omega*sat_pose_t[8,4]) 0;\n",
    "          -sin(omega*sat_pose_t[8,4]) cos(omega*sat_pose_t[8,4]) 0;\n",
    "          0 0 1];\n",
    "\n",
    "    #create dfdy\n",
    "    dfdx = zeros(8,8)\n",
    "\n",
    "    dfdx_row1 = LS_Amatrix(x_sol, sat_pose_t[1,:], scale_f1, A1, angles[1])'\n",
    "    dfdx_row2 = LS_Amatrix(x_sol, sat_pose_t[2,:], scale_f1, A2, angles[2])'\n",
    "    dfdx_row3 = LS_Amatrix(x_sol, sat_pose_t[3,:], scale_f1, A3, angles[3])'\n",
    "    dfdx_row4 = LS_Amatrix(x_sol, sat_pose_t[4,:], scale_f1, A4, angles[4])'\n",
    "    dfdx_row5 = LS_Amatrix(x_sol, sat_pose_t[5,:], scale_f2, A5, angles[1])'\n",
    "    dfdx_row6 = LS_Amatrix(x_sol, sat_pose_t[6,:], scale_f2, A6, angles[2])'\n",
    "    dfdx_row7 = LS_Amatrix(x_sol, sat_pose_t[7,:], scale_f2, A7, angles[3])'\n",
    "    dfdx_row8 = LS_Amatrix(x_sol, sat_pose_t[8,:], scale_f2, A8, angles[4])'\n",
    "\n",
    "    dfdx[1,:] = [dfdx_row1[1:5]; zeros(3)]\n",
    "    dfdx[2,:] = [dfdx_row2[1:4];0.0; dfdx_row2[5]; zeros(2)]\n",
    "    dfdx[3,:] = [dfdx_row3[1:4];zeros(2); dfdx_row3[5]; 0.0]\n",
    "    dfdx[4,:] = [dfdx_row4[1:4];zeros(3); dfdx_row4[5]]\n",
    "    dfdx[5,:] = [dfdx_row5[1:5]; zeros(3)]\n",
    "    dfdx[6,:] = [dfdx_row6[1:4];0.0; dfdx_row6[5]; zeros(2)]\n",
    "    dfdx[7,:] = [dfdx_row7[1:4];zeros(2); dfdx_row7[5]; 0.0]\n",
    "    dfdx[8,:] = [dfdx_row8[1:4];zeros(3); dfdx_row8[5]]\n",
    "\n",
    "    #derivative wrt measurements (satellite position and times)\n",
    "    dfdy = zeros(8,32)\n",
    "\n",
    "    #create dfdx\n",
    "    dfdy[1, 1:4] = LS_Amatrix_dpdy(x_sol, sat_pose_t[1,:], scale_f1, A1, angles[1])'[1:4]\n",
    "    dfdy[2, 5:8] = LS_Amatrix_dpdy(x_sol, sat_pose_t[2,:], scale_f1, A2, angles[2])'[1:4]\n",
    "    dfdy[3, 9:12] = LS_Amatrix_dpdy(x_sol, sat_pose_t[3,:], scale_f1, A3, angles[3])'[1:4]\n",
    "    dfdy[4, 13:16] = LS_Amatrix_dpdy(x_sol, sat_pose_t[4,:], scale_f1, A4, angles[4])'[1:4]\n",
    "    dfdy[5, 17:20] = LS_Amatrix_dpdy(x_sol, sat_pose_t[5,:], scale_f2, A5, angles[1])'[1:4]\n",
    "    dfdy[6, 21:24] = LS_Amatrix_dpdy(x_sol, sat_pose_t[6,:], scale_f2, A6, angles[2])'[1:4]\n",
    "    dfdy[7, 25:28] = LS_Amatrix_dpdy(x_sol, sat_pose_t[7,:], scale_f2, A7, angles[3])'[1:4]\n",
    "    dfdy[8, 29:32] = LS_Amatrix_dpdy(x_sol, sat_pose_t[8,:], scale_f2, A8, angles[4])'[1:4]\n",
    "\n",
    "    A = -inv(dfdx)*dfdy\n",
    "    \n",
    "    return A\n",
    "end"
   ]
  },
  {
   "cell_type": "code",
   "execution_count": 22,
   "id": "cf0b9121",
   "metadata": {},
   "outputs": [
    {
     "data": {
      "text/plain": [
       "350000.0"
      ]
     },
     "execution_count": 22,
     "metadata": {},
     "output_type": "execute_result"
    }
   ],
   "source": [
    "#scaled\n",
    "using Distributions\n",
    "mu = 8e-6\n",
    "sigma = 3e-6\n",
    "lb = 3e-6\n",
    "ub = 13e-6\n",
    "d = Truncated(Normal(mu,sigma), lb, ub)\n",
    "\n",
    "hi = 350e3 #in meters"
   ]
  },
  {
   "cell_type": "code",
   "execution_count": 23,
   "id": "1c1dddfe",
   "metadata": {},
   "outputs": [
    {
     "data": {
      "text/plain": [
       "calculate_covariance (generic function with 1 method)"
      ]
     },
     "execution_count": 23,
     "metadata": {},
     "output_type": "execute_result"
    }
   ],
   "source": [
    "function calculate_covariance(sat_poses, elev_angles, guess)\n",
    "    TEC = rand(d,4) \n",
    "    r0_TEC= vec([r0_scaled TEC])\n",
    "    sat_poses_scaled = sat_poses/distance_scale #scale the data\n",
    "    t = get_time(r0_TEC, sat_poses_scaled, elev_angles)\n",
    "    sat_poses_2 = vcat(sat_poses_scaled, sat_poses_scaled)\n",
    "    sat_pose_t = [sat_poses_2 t]\n",
    "    \n",
    "    #println(size(sat_pose_t))\n",
    "    \n",
    "    #println(\"good so far\")\n",
    "    initial_x0 = [guess[1]/distance_scale, guess[2]/distance_scale, guess[3]/distance_scale, 0.0001/time_scale, 3e-6, 3.5e-6, 2e-6, 4e-6]\n",
    "    \n",
    "    #println(\"solving for initial x0\")\n",
    "    \n",
    "    x_sol = customjacobian(initial_x0,sat_pose_t, elev_angles)\n",
    "    \n",
    "    #println(\"soved for x_sol\")\n",
    "    \n",
    "    A = createA(sat_pose_t, elev_angles, x_sol)\n",
    "    \n",
    "    covariance_tag = A*Pin_read*transpose(A)\n",
    "    \n",
    "    pose_covariance = covariance_tag[1:3, 1:3]\n",
    "    \n",
    "    pose_covariance_scaled = covariance_tag[1:3, 1:3]*(1e3*distance_scale)^2\n",
    "    \n",
    "    PDOP_LS = sqrt(covariance_tag[1,1] + covariance_tag[2,2] + covariance_tag[3,3])\n",
    "\n",
    "    PDOP_LS_scaled = PDOP_LS*distance_scale*1e3\n",
    "    \n",
    "    return PDOP_LS_scaled, pose_covariance_scaled\n",
    "    \n",
    "end"
   ]
  },
  {
   "cell_type": "code",
   "execution_count": 28,
   "id": "447e9200",
   "metadata": {},
   "outputs": [
    {
     "data": {
      "text/plain": [
       "draw_ellipse (generic function with 1 method)"
      ]
     },
     "execution_count": 28,
     "metadata": {},
     "output_type": "execute_result"
    }
   ],
   "source": [
    "#DRAW THE ELLIPSE\n",
    "function draw_ellipse(covariance_matrix)\n",
    "    \n",
    "    eig_value = eigvals(covariance_matrix)\n",
    "    eig_vecs = eigvecs(covariance_matrix)\n",
    "    \n",
    "    max_eigval_index = argmax(eig_value)\n",
    "    min_eigval_index = argmin(eig_value)\n",
    "\n",
    "    max_eigval = eig_value[max_eigval_index]\n",
    "    min_eigval = eig_value[min_eigval_index]\n",
    "    \n",
    "    max_eigvec = eig_vecs[:, max_eigval_index]\n",
    "    min_eigvec = eig_vecs[:, min_eigval_index]\n",
    "    \n",
    "    angle = atan(max_eigvec[2], max_eigvec[1])\n",
    "    \n",
    "    if angle<0\n",
    "        angle = angle + 2*pi;\n",
    "    end\n",
    "    \n",
    "    chisquare_val = 2.4477\n",
    "    theta_grid = 0:0.01:2*pi\n",
    "\n",
    "    phi = angle;\n",
    "    #X0= avg\n",
    "    #Y0 = avg\n",
    "    a = chisquare_val*sqrt(max_eigval)\n",
    "    b = chisquare_val*sqrt(min_eigval)\n",
    "\n",
    "    ellipse_x = zeros(size(theta_grid)[1], 1)\n",
    "    ellipse_y = zeros(size(theta_grid)[1], 1)\n",
    "\n",
    "    for i=1:size(theta_grid)[1]\n",
    "\n",
    "        #Get ellipse coordinates \n",
    "        ellipse_x[i,1] = a*cos(theta_grid[i])\n",
    "        ellipse_y[i,1] = b*sin(theta_grid[i])\n",
    "\n",
    "    end\n",
    "    \n",
    "    R = [cos(phi) sin(phi); -sin(phi) cos(phi)];\n",
    "    r_ellipse = [ellipse_x ellipse_y]*R\n",
    "    \n",
    "    return r_ellipse\n",
    "\n",
    "        \n",
    "end"
   ]
  },
  {
   "cell_type": "code",
   "execution_count": 30,
   "id": "b6236e0d",
   "metadata": {},
   "outputs": [
    {
     "name": "stdout",
     "output_type": "stream",
     "text": [
      "Not in the horizon\n",
      "Not in the horizon\n",
      "Not in the horizon\n",
      "Not in the horizon\n",
      "Not in the horizon\n",
      "Not in the horizon\n",
      "Not in the horizon\n"
     ]
    },
    {
     "data": {
      "text/plain": [
       "GLMakie.Screen(...)"
      ]
     },
     "execution_count": 30,
     "metadata": {},
     "output_type": "execute_result"
    },
    {
     "name": "stdout",
     "output_type": "stream",
     "text": [
      "Not in the horizon\n",
      "Not in the horizon\n",
      "Not in the horizon\n",
      "Not in the horizon\n",
      "Not in the horizon\n",
      "Not in the horizon\n",
      "Not in the horizon\n",
      "Not in the horizon\n",
      "Not in the horizon\n",
      "Not in the horizon\n",
      "Not in the horizon\n",
      "Not in the horizon\n",
      "Not in the horizon\n",
      "Not in the horizon\n",
      "Not in the horizon\n",
      "Not in the horizon\n",
      "Not in the horizon\n",
      "Not in the horizon\n",
      "Not in the horizon\n",
      "this is PDOP: 96.87072311852458\n"
     ]
    },
    {
     "name": "stdout",
     "output_type": "stream",
     "text": [
      "this is r_ellipse: [-176.81930270001618 -100.89257558379772; -176.53310918944115 -101.37360538290822; -176.22926251505763 -101.84449790595815; -175.90779306127982 -102.30520606408761; -175.56873297478523 -102.75568378686471; -175.21211616129997 -103.1958860268926; -174.83797828220818 -103.62576876431405; -174.44635675098598 -104.04528901121361; -174.03729072946018 -104.45440481591616; -173.61082112389198 -104.85307526718216; -173.16699058088665 -105.24126049829873; -172.70584348312855 -105.6189216910662; -172.2274259449432 -105.98602107968007; -171.73178580768572 -106.34252195450735; -171.2189726349568 -106.68838866575764; -170.68903770764643 -107.02358662704806; -170.14203401880567 -107.34808231886181; -169.5780162683476 -107.66184329190011; -168.99704085757722 -107.96483817032711; -168.3991658835515 -108.25703665490748; -167.78445113326953 -108.53840952603625; -167.15295807769422 -108.80892864666079; -166.50474986560477 -109.06856696509448; -165.83989131728228 -109.31729851772184; -165.15844891802746 -109.55509843159483; -164.46049081151244 -109.78194292692031; -163.74608679296628 -109.99780931943774; -163.0153083021954 -110.20267602268775; -162.26822841643988 -110.39652255017076; -161.50492184306586 -110.57932951739554; -160.72546491209448 -110.7510786438177; -159.92993556856936 -110.91175275466776; -159.1184133647619 -111.0613357826685; -158.2909794522162 -111.19981276964178; -157.44771657363393 -111.3271698680043; -156.58870905460034 -111.44339434215233; -155.7140427951514 -111.54847456973535; -154.8238052611843 -111.64240004281817; -153.91808547571043 -111.7251613689317; -152.99697400995362 -111.79675027201233; -152.06056297429288 -111.8571595932294; -151.10894600905144 -111.90638329170116; -150.14221827513276 -111.94441644509874; -149.1604764445047 -111.97125525013853; -148.16381869053217 -111.98689702296235; -147.15234467816 -111.991340199406; -146.1261555539466 -111.9845843351555; -145.08535393594917 -111.96663010579167; -144.03004390346223 -111.93747930672247; -142.9603309866095 -111.89713485300352; -141.8763221557914 -111.84560077904658; -140.77812581098758 -111.78288223821608; -139.66585177091736 -111.70898550231385; -138.5396112620579 -111.6239179609519; -137.39951690752147 -111.5276881208135; -136.24568271579355 -111.4203056048024; -135.07822406933172 -111.30178115108079; -133.8972577130278 -111.17212661199527; -132.70290174253321 -111.03135495289163; -131.4952755924498 -110.87948025081857; -130.27450002438613 -110.71651769311967; -129.04069711488174 -110.54248357591491; -127.79399024319945 -110.35739530247099; -126.53450407898747 -110.16127138146102; -125.26236456981263 -109.95413142511366; -123.9776989285658 -109.7359961472519; -122.68063562074049 -109.50688736122179; -121.37130435158667 -109.266827977711; -120.04983605314008 -109.01584200245783; -118.71636287112936 -108.75395453385063; -117.37101815176153 -108.48119176041804; -116.01393642838735 -108.1975809582101; -114.64525340804829 -107.90315048807068; -113.26510595790587 -107.5979297928015; -111.87363209155488 -107.28194939421763; -110.47097095522247 -106.95524089009568; -109.05726281385336 -106.61783695101377; -107.63264903708362 -106.26977131708469; -106.19727208510375 -105.91107879458173; -104.75127549441281 -105.54179525245826; -103.29480386346484 -105.16195761876074; -101.82800283820926 -104.77160387693603; -100.35101909752623 -104.370773062033; -98.86400033855902 -103.9595052567991; -97.36709526194437 -103.53784158767216; -95.8604535569425 -103.10582422066773; -94.34422588646837 -102.66349635716243; -92.8185638720255 -102.21090222957406; -91.28362007854402 -101.7480870969382; -89.73954799912407 -101.27509724038244; -88.18650203968693 -100.79197995849826; -86.62463750353432 -100.29878356261128; -85.05411057581833 -99.79555737195007; -83.47507830792293 -99.28235170871436; -81.88769860175908 -98.75921789304279; -80.29213019397459 -98.226208237881; -78.68853264008057 -97.68337604375031; -77.0770662984961 -97.1307755934178; -75.45789231451248 -96.56846214646798; -73.83117260417873 -95.99649193377695; -72.19706983811038 -95.41492215188939; -70.55574742522222 -94.82381095729879; -68.90736949638779 -94.22321746063203; -67.25210088802636 -93.6132017207383; -65.59010712561935 -92.99382473868324; -63.92155440715802 -92.36514845164892; -62.24660958652374 -91.7272357267401; -60.56544015680282 -91.08015035469775; -58.87821423353726 -90.42395704351979; -57.18510053791334 -89.75872141199052; -55.48626837988976 -89.08450998311875; -53.781887641266565 -88.4013901774855; -52.07212875869734 -87.70943030650209; -50.35716270664554 -87.00869956557897; -48.637160980287234 -86.2992680272063; -46.912295578361714 -85.58120663394672; -45.18273898597187 -84.85458719134121; -43.44866415733556 -84.11948236072847; -41.71024449849059 -83.37596565197897; -39.9676538499542 -82.62411141614403; -38.22106646933909 -81.86399483802067; -36.47065701392783 -81.09569192863329; -34.71660052320726 -80.31927951763254; -32.959072401364814 -79.53483524561256; -31.19824839974801 -78.7424375563468; -29.43430459928969 -77.9421656889439; -27.667417392899956 -77.1340996699237; -25.897763467827026 -76.31832030521471; -24.12551978798871 -75.49490917207356; -22.35086357627612 -74.66394861092745; -20.573972296831574 -73.82552171713998; -18.79502363730225 -72.97971233270187; -17.01419549107169 -72.1266050378467; -15.231665939470444 -71.26628514259306; -13.447613233968283 -70.39883867821352; -11.662215778349019 -69.52435238863168; -9.875652110870407 -68.64291372174773; -8.088100886410395 -67.75461082069386; -6.299740858601795 -66.8595325150199; -4.510750861957105 -65.95776831181053; -2.7213097939851667 -65.0494083867346; -0.9315965973016114 -64.13454357502766; 0.8582097582653735 -63.21326536240849; 2.647930293571708 -62.28566587593062; 4.437386038055286 -61.3518378747697; 6.226398047632872 -60.41187474094768; 8.014787422594342 -59.46587046999461; 9.802375325492516 -58.51391966154928; 11.588982999026763 -57.55611750989923; 13.374431783918558 -56.59255979446146; 15.15854313677729 -55.623342870204546; 16.941138647954414 -54.648563658013245; 18.722040059384312 -53.66831963499647; 20.501069282409922 -52.682708824739635; 22.27804841559146 -51.69182978750245; 24.052799762496413 -50.695781610362886; 25.825145849469056 -49.69466389730863; 27.594909443377627 -48.68857675927673; 29.36191356933755 -47.67762080414258; 31.125981528408712 -46.66189712665923; 32.88693691526527 -45.641507298347996; 34.64460363583598 -44.616553357341395; 36.398805924913525 -43.5871377981794; 38.14936836373081 -42.553363561560076; 39.89611589750276 -41.515334024045615; 41.63887385293161 -40.473152987724745; 43.37746795567411 -39.42692466983262; 45.11172434776878 -38.37675369232919; 46.841469605021686 -37.32274507143703; 48.56653075434852 -36.26500420713991; 50.286735291071885 -35.20363687264282; 52.001911196171626 -34.13874920379472; 53.71188695348653 -33.07044768847511; 55.41649156686584 -31.99883915594526; 57.11555457726872 -30.924030766165433; 58.80890607981 -29.84612999907893; 60.49637674075056 -28.765244643864207; 62.17779781443054 -27.681482788156057; 63.85300116014372 -26.59495280723691; 65.52181925895155 -25.505763353199438; 67.18408523043482 -24.41402334408136; 68.83963284938159 -23.31984195297384; 70.4882965624096 -22.223328597104157; 72.12991150452142 -21.124592926894138; 73.76431351559084 -20.023744814995208; 75.39133915677877 -18.920894345301175; 77.01082572687692 -17.816151801939967; 78.62261127857785 -16.709627658245306; 80.22653463466955 -15.601432565709468; 81.82243540415301 -14.49167734291821; 83.41015399828117 -13.380472964469025; 84.98953164651776 -12.267930549873734; 86.56041041241403 -11.154161352446724; 88.12263320940254 -10.039276748179558; 89.67604381650536 -8.923388224603602; 91.22048689395635 -7.8066073696413225; 92.75580799873474 -6.689045860447558; 94.28185360000951 -5.570815452241952; 95.79847109449224 -4.452027967133432; 97.3055088216973 -3.332795282938215; 98.80281607910786 -2.213229321992025; 100.29024313724592 -1.0934420399579685; 101.76764125464516 0.026454585368839663; 103.23486269272505 1.146348565259211; 104.69176073056437 2.266127911248288; 106.13818967957347 3.38568064633467; 107.57400489806288 4.504894816177866; 108.99906280570715 5.623658500293465; 110.41322089790314 6.741859823245445; 111.81633776001999 7.859386965833243; 113.2082730815409 8.976128176273987; 114.58888767009344 10.091971781377122; 115.95804346536951 11.206806197712131; 117.31560355293034 12.320519942766287; 118.66143217789862 13.433001646093285; 119.99539475853325 14.544140060449754; 121.3173578996879 15.653824072920296; 122.62718940615002 16.76194271602831; 123.92475829586054 17.868385178833027; 125.20993481301169 18.97304081801005; 126.48259044102288 20.07579916891615; 127.74259791539171 21.17654995663509; 128.98983123642088 22.27518310700548; 130.2241656818175 23.371588757627716; 131.4454778191658 24.465657268850503; 132.65364551826966 25.557279234734327; 133.84854796336606 26.646345493992378; 135.03006566520617 27.73274714090622; 136.19808047300447 28.816375536216533; 137.35247558625346 29.897122317986756; 138.4931355664039 30.974879412439435; 139.61994634840818 32.04953904476311; 140.73279525212718 33.12099374989017; 141.831570993598 34.18913638324304; 142.91616369616196 35.25386013144837; 143.98646490145276 36.315058523018735; 145.04236758024172 37.372625438999194; 146.0837661431409 38.42645512357956; 147.1105564511618 39.47644219466945; 148.12263582612934 40.522481654436845; 149.11990306094935 41.56446889980738; 150.10225842972952 42.602299732924926; 151.06960369775143 43.63587037157091; 152.02184213129453 44.665077459542914; 152.95887850730892 45.68981807698969; 153.8806191229379 46.7099897507035; 154.78697180488797 47.72549046436709; 155.6778459186463 48.73621866875538; 156.55315237754388 49.74207329189014; 157.4128036516642 50.74295374914734; 158.25671377659626 51.73875995331524; 159.08479836203082 52.72939232460333; 159.89697460019943 53.71475180059994; 160.69316127415505 54.694739846178685; 161.47327876589375 55.66925846335155; 162.2372490643165 56.63821020106902; 162.98499577303002 57.6014981649647; 163.71644411798664 58.559026027044965; 164.43152095496143 59.510698035321596; 165.13015477686645 60.45641902338674; 165.81227572090185 61.396094419929774; 166.47781557554157 62.329630258194; 167.1267077873548 63.25693318537363; 167.75888746766108 64.17791047194864; 168.37429139901923 65.09247002095789; 168.97285804154885 66.00052037720855; 169.5545275390846 66.90197073642179; 170.11924172516143 67.79673095431279; 170.6669441288313 68.68471155560549; 171.19757998031022 69.56582374297967; 171.71109621645536 70.43997940595091; 172.20744148607088 71.3070911296813; 172.68656615504358 72.16707220372113; 173.1484223113057 73.0198366306796; 173.5929637696266 73.86529913482468; 174.02014607623087 74.70337517061047; 174.42992651324383 75.53398093113184; 174.8222641029632 76.3570333565048; 175.19711961195708 77.17245014217283; 175.5544555549868 77.98014974713675; 175.89423619875598 78.78005140210925; 176.2164275654833 79.57207511759131; 176.52099743630058 80.35614169187147; 176.8079153544746 81.1321727189457; 177.0771526284526 81.90009059635791; 177.32868233473155 82.65981853296037; 177.56247932055044 83.41128055659244; 177.77852020640555 84.1544015216781; 177.97678338838824 84.88910711673995; 178.15724904034562 85.61532387183085; 178.31989911586282 86.33297916588042; 178.46471735006787 87.04200123395734; 178.59168926125798 87.74231917444556; 178.70080215234793 88.43386295613476; 178.79204511213948 89.11656342522292; 178.86540901641266 89.79035231223219; 178.92088652883822 90.4551622388352; 178.95847210171115 91.11092672459344; 178.97816197650545 91.7575801936047; 178.97995418425006 92.39505798106102; 178.96384854572574 93.02329633971485; 178.92984667148286 93.64223244625387; 178.8779519616806 94.25180440758317; 178.8081696057466 94.85195126701467; 178.72050658185833 95.44261301036245; 178.6149716562451 96.02373057194445; 178.4915753823116 96.59524584048879; 178.35033009958232 97.15710166494483; 178.19124993246794 97.70924186019836; 178.01435078885248 98.25161121268995; 177.81965035850294 98.78415548593638; 177.60716811130007 99.30682142595403; 177.37692529529158 99.81955676658454; 177.12894493456713 100.32231023472103; 176.86325182695623 100.81503155543572; 176.57987254154818 101.29767145700711; 176.27883541603532 101.77018167584724; 175.9601705538795 102.232514961328; 175.6239098213012 102.6846250805061; 175.27008684409358 103.12646682274637; 174.89873700425943 103.55799600424282; 174.50989743647338 103.97916947243687; 174.10360702436805 104.38994511033272; 173.67990639664617 104.79028184070886; 173.2388379230174 105.18013963022588; 172.7804457099615 105.55947949342968; 172.30477559631785 105.92826349665008; 171.81187514870146 106.28645476179408; 171.3017936567462 106.63401747003364; 170.77458212817635 106.97091686538758; 170.2302932837053 107.29711925819714; 169.66898155176406 107.61259202849483; 169.0907030630579 107.91730362926654; 168.49551564495394 108.21122358960609; 167.883478815698 108.49432251776243; 167.25465377846282 108.7665721040786; 166.60910341522828 109.0279451238229; 165.9468922804926 109.27841543991111; 165.26808659481753 109.51795800552037; 164.57275423820593 109.74654886659377; 163.86096474331404 109.96416516423562; 163.13278928849812 110.17078513699757; 162.3883006906969 110.36638812305449; 161.62757339814976 110.55095456227082; 160.85068348295198 110.72446599815638; 160.0577086334477 110.88690507971222; 159.24872814646108 111.03825556316552; 158.4238229193666 111.17850231359408; 157.58307544199965 111.30763130643973; 156.7265697884072 111.42562962891077; 155.85439160844103 111.53248548127333; 154.96662811919222 111.62818817803117; 154.06336809626993 111.71272814899439; 153.1447018649237 111.78609694023635; 152.21072129101117 111.84828721493903; 151.26151977181135 111.89929275412685; 150.2971922266852 111.93910845728833; 149.3178350875836 111.96773034288636; 148.32354628940442 111.98515554875624; 147.31442526019885 111.99138233239191; 146.2905729112288 111.98641007112015; 145.2520916268761 111.970239262163; 144.19908525440366 111.94287152258784; 143.1316590935713 111.90430958914585; 142.04991988610558 111.85455731799823; 140.9539758050258 111.79361968433062; 139.84393644382672 111.7215027818556; 138.71991280551956 111.63821382220337; 137.58201729153132 111.54376113420044; 136.43036369046527 111.4381541630369; 135.2650671667217 111.3214034693219; 134.08624424898204 111.19352072802748; 132.8940128185556 111.05451872732122; 131.68849209759202 110.90441136728734; 130.46980263715866 110.74321365853677; 129.2380663051861 110.57094172070606; 127.99340627428097 110.38761278084543; 126.73594700940933 110.19324517169606; 125.4658142554496 109.98785832985693; 124.1831350246189 109.77147279384108; 122.88803758377128 109.54411020202174; 121.58065144157167 109.30579329046867; 120.26110733554472 109.0565458906744; 118.92953721900156 108.79639292717121; 117.5860742478441 108.52536041503869; 116.23085276724987 108.24347545730214; 114.86400829823769 107.95076624222247; 113.48567752411532 107.64726204047723; 112.09599827681167 107.33299320223371; 110.6951095230933 107.0079911541138; 109.28315135066832 106.67228839605156; 107.86026495417715 106.32591849804292; 106.42659262107397 105.96891609678919; 104.98227771739707 105.60131689223287; 103.52746467343344 105.22315764398815; 102.06229896927502 104.83447616766466; 100.5869271202714 104.43531133108625; 99.10149666237781 104.02570305040382; 97.60615613740235 103.60569228610417; 96.1010550781513 103.17532103891367; 94.58634399347645 102.73463234559846; 93.06217435322391 102.28367027466057; 91.52869857308748 101.8224799219313; 89.98606999936754 101.35110740606166; 88.43444289363582 100.86959986391041; 86.87397241730984 100.37800544583045; 85.30481461613675 99.87637331085395; 83.72712640458926 99.36475362177643; 82.14106555017369 98.84319754014042; 80.54679065765379 98.31175722111946; 78.9444611531902 97.77048580830257; 77.33423726839798 97.21943742837995; 75.71628002432406 96.65866718573045; 74.0907512153444 96.08823115691101; 72.4578133929853 95.50818638504913; 70.81762984966804 94.91859087413859; 69.17036460238049 94.31950358323924; 67.51618237627443 93.7109844205809; 65.85524858819409 93.09309423757274; 64.18772933013395 92.46589482271807; 62.51379135263053 91.82944889543585; 60.83360204808652 91.18382009978836; 59.14732943403218 90.52907299811716; 57.455142136323566 89.86527306458673; 55.75720937228061 89.19248667863738; 54.05370093376462 88.510781118347; 52.34478717019984 87.82022455370351; 50.63063897153841 87.12088603978788; 48.91142775117201 86.4128355098688; 47.18732542878991 85.69614376840921; 45.458504413187555 84.970882483986; 43.725137585025685 84.23712418212315; 41.987398279542965 83.49494223803951; 40.245460269221674 82.74441086931098; 38.49949774641124 81.98560512844897; 36.749685305908805 81.21860089539514; 34.99619792750059 80.44347486993377; 33.239210958463 79.66030456402143; 31.478900096028827 78.86916829403604; 29.715441369817373 78.07014517294535; 27.94901112423158 77.26331510239552; 26.179786000824276 76.44875876472142; 24.407942920633303 75.62655761487791; 22.633659066490157 74.79679387229484; 20.857111865301516 73.95955051265493; 19.078478970307383 73.11491125959658; 17.297938243314885 72.26296057634116; 15.515667736912974 71.40378365724703; 13.73184567666688 70.53746641929006; 11.946650443296452 69.66409549347226; 10.160260554837198 68.78375821615835; 8.372854648789314 67.89654262034242; 6.584611464253754 67.00253742684464; 4.795709824059077 66.10183203543951; 3.0063286168784162 65.19451651591551; 1.2166467793413298 64.28068159906852; -0.5731567218599843 63.360418667628586; -2.3629029078665833 62.433819747122136; -4.152412805551474 61.500977496668995; -5.941507465416141 60.56198519971683; -7.73000797948566 59.61693675471276; -9.517735499198734 58.66592666571392; -11.304511253293299 57.70905003293661; -13.090156565682934 56.74640254324674; -14.874492873324423 55.778080460591035; -16.657341744074113 54.80418061637078; -18.438524894530307 53.82480039975896; -20.217864207862434 52.84003774796102; -21.99518175162194 51.84999113642151; -23.770299795535696 50.854759568976434; -25.543040829278258 49.854442567953384; -27.313227580223693 48.849140164218774; -29.080683031172047 47.83895288717522; -30.845230438051267 46.82398175470851; -32.6066933475908 45.80432826308628; -34.36489561496772 44.780094376807895; -36.11966142142047 43.75138251840845; -37.87081529183084 42.718295558216425; -39.61818211227078 41.68093680406714; -41.36158714751455 40.63940999097144; -43.10085605851143 39.59381927074271; -44.835814919819875 38.54426920158156; -46.566290236999244 37.49086473762045; -48.29210896396002 36.43371121842787; -50.0130985202677 35.37291435847476; -51.72908680840093 34.308580236563046; -53.439902230960605 33.240815285218154; -55.14537370783029 32.16972628004533; -56.84533069328352 31.09542032905252; -58.53960319303837 30.018004861939573; -60.228021781256906 28.93758761935525; -61.91041761748701 27.854276642123658; -63.58662246354722 26.76818026043968; -65.25646870034974 25.6794070830364; -66.91978934466259 24.58806598632416; -68.57641806580713 23.494266103503367; -70.22618920229192 22.39811681365071; -71.8689377783781 21.299727730781722; -73.50449952057717 20.199208692889272; -75.13271087407759 19.096669750960256; -76.75340901910099 17.992221157969983; -78.36643188718341 16.885973357857374; -79.97161817738244 15.778036974480486; -81.56880737240635 14.668522800554557; -83.15783975466681 13.557541786572317; -84.73855642224977 12.445205029709323; -86.31079930480588 11.331623762714221; -87.87441117935678 10.216909342785947; -89.4292356860182 9.101173240437452; -90.97511734363512 7.984527028349204; -92.51190156533018 6.867082370211771; -94.03943467396155 5.748951009559957; -95.55756391749145 4.630244758597969; -97.06613748426064 3.5110754870186507; -98.56500451816957 2.3915551108165185; -100.05401513376405 1.271795581096145; -101.53302043122311 0.1519088728776025; -103.00187251124962 -0.9679930261016381; -104.46042448985959 -2.0877981265849277; -105.90853051307077 -3.207394448995494; -107.34604577148734 -4.326670034633868; -108.77282651478149 -5.445512956874331; -110.18873006606789 -6.563811332357018; -111.59361483617145 -7.6814533321764; -112.98734033778562 -8.798327193063638; -114.36976719952183 -9.914321228563509; -115.7407571798459 -11.029323840202416; -117.10017318090242 -12.143223528648464; -118.44787926222389 -13.255908904860885; -119.78374065432534 -14.367268701229365"
     ]
    },
    {
     "name": "stdout",
     "output_type": "stream",
     "text": [
      "; -121.10762377218086 -15.47719178270041; -122.41939622858193 -16.58556715789089; -123.71892684737585 -17.69228399018676; -125.0060856765838 -18.79723160882711; -126.28074400139549 -19.90029951997091; -127.54277435704076 -21.001377417746316; -128.7920505415355 -22.10035519528096; -130.02844762830242 -23.19712295571297; -131.2518419786632 -24.291571023180275; -132.46211125420228 -25.383589953788174; -133.65913442900077 -26.473070546553696; -134.8427918017385 -27.55990385432532; -136.01296500766466 -28.64398119467798; -137.16953703043387 -29.725194160781115; -138.31239221380764 -30.80343463223916; -139.4414162732199 -31.878594785903328; -140.55649630720563 -32.95056710665432; -141.65752080869066 -34.019244398153354; -142.74437967614247 -35.08451979356194; -143.81696422457978 -36.14628676622808; -144.87516719644174 -37.20443914033942; -145.91888277231297 -38.2588711015403; -146.9480065815057 -39.309477207513424; -147.96243571249647 -40.35615239852347; -148.96206872321758 -41.398792007923696; -149.94680565120106 -42.43729177262201; -150.91654802357473 -43.47154784350743; -151.8711988669093 -44.50145679583458; -152.81066271691614 -45.526915639566596; -153.73484562799305 -46.547821829673595; -154.6436551826192 -47.564073276387454; -155.5370005005963 -48.57556835541017; -156.41479224813705 -49.58220591807685; -157.27694264679823 -50.5838853014701; -158.1233654822584 -51.58050633848627; -158.95397611293947 -52.57196936785235; -159.76869147847037 -53.55817524409135; -160.56743010799354 -54.539025347437594; -161.3501121283117 -55.51442159369816; -162.11665927187502 -56.48426644406128; -162.8669948846079 -57.44846291484998; -163.60104393357432 -58.40691458722076; -164.31873301448115 -59.35952561680508; -165.0199903590184 -60.30620074329392; -165.7047458420359 -61.24684529996333; -166.37293098855605 -62.18136522314162; -167.02447898062098 -63.10966706161524; -167.6593246639745 -64.03165798597398; -168.2774045545772 -64.94724579789357; -168.87865684495515 -65.85633893935591; -169.46302141038032 -66.7588465018044; -170.03043981488327 -67.654678235235; -170.5808553170962 -68.54374455722068; -171.11421287592768 -69.42595656187025; -171.63045915606625 -70.3012260287184; -172.12954253331418 -71.1694654315479; -172.61141309974954 -72.0305879471419; -173.0760226687173 -72.88450746396644; -173.5233247796477 -73.73113859078148; -173.9532747027025 -74.57039666517987; -174.36582944324755 -75.4021977620536; -174.76094774615265 -76.22645870198598; -175.13859009991677 -77.04309705957002; -175.4987187406192 -77.85203117165045; -175.84129765569614 -78.65318014549028; -176.16629258754136 -79.44646386685962; -176.47367103693253 -80.23180300804738; -176.763402266281 -81.009119035794; -177.03545730270514 -81.77833421914443; -177.28980894092803 -82.5393716372213; -177.5264317459979 -83.29215518691701; -177.74530205583133 -84.03660959050394; -177.9463979835798 -84.77266040316216; -178.12969941981808 -85.50023402042365; -178.29518803455528 -86.21925768553305; -178.44284727906788 -86.92965949672303; -178.57266238755443 -87.63136841440455; -178.6846203786123 -88.32431426827047; -178.77871005653563 -89.00842776431288; -178.85492201243508 -89.68364049175234; -178.9132486251786 -90.3498849298788; -178.9536840621534 -91.00709445480351; -178.97622427984962 -91.65520334612175; -178.98086702426417 -92.29414679348444; -178.96761183112653 -92.92386090307939; -178.936460025945 -93.54428270402026; -178.88741472387406 -94.15535015464404; -178.82048082940307 -94.75700214871489; -178.73566503586574 -95.34917852153477; -178.63297582477068 -95.93182005595993; -178.51242346495349 -96.50486848832236; -178.37402001154965 -97.06826651425642; -178.2177793047892 -97.621957794429; -178.04371696861253 -98.16588696017354; -177.85185040910832 -98.69999961902667; -177.64219881277256 -99.22424236016761; -177.41478314459022 -99.73856275975912; -177.16962614593854 -100.2429093861899; -176.90675233231315 -100.73723180521749]\n",
      "this is PDOP: 65.98609766619016\n"
     ]
    },
    {
     "name": "stdout",
     "output_type": "stream",
     "text": [
      "this is r_ellipse: [-144.68906011463903 -40.47958792133146; -144.5341265448713 -41.00549559556756; -144.3647396828938 -41.527302754415246; -144.18091646725156 -42.04495721759346; -143.98267528011294 -42.55840722008726; -143.77003594543152 -43.067601417324276; -143.54301972696345 -43.57248889030911; -143.30164932614153 -44.0730191507152; -143.0459488798046 -44.569142145933604; -142.77594395778425 -45.06080826407825; -142.49166156034767 -45.54796833894703; -142.19313011549772 -46.03057365493843; -141.88037947613014 -46.508575951923014; -141.55344091704816 -46.98192743006943; -141.21234713183526 -47.45058075462431; -140.85713222958577 -47.91448906064575; -140.4878317314939 -48.37360595768975; -140.1044825673017 -48.827885534449166; -139.70712307160605 -49.27728236334491; -139.29579298002545 -49.721751505068575; -138.87053342522634 -50.16124851307641; -138.43138693280974 -50.59572943803383; -137.978397417059 -51.0251508322104; -137.51161017654812 -51.44946975382458; -137.0310718896122 -51.86864377133779; -136.53683060967953 -52.282630967697585; -136.0289357604662 -52.691389944529334; -135.50743813103392 -53.09487982627597; -134.972389870711 -53.49306026428557; -134.42384448387762 -53.88589144084613; -133.86185682461533 -54.27333407316737; -133.28648309122178 -54.65534941730893; -132.6977808205908 -55.03189927205472; -132.0958088824589 -55.40294598273308; -131.48062747351818 -55.768452444982124; -130.85229811139698 -56.12838210846024; -130.21088362850782 -56.482698980500984; -129.55644816576458 -56.83136762971245; -128.88905716616802 -57.17435318952026; -128.2087773682621 -57.51162136165425; -127.51567679945964 -57.843138419578274; -126.80982476923991 -58.16887121186279; -126.09129186221777 -58.488787165500014; -125.36014993108515 -58.802854289161175; -124.61647208942587 -59.111041176395645; -123.86033270440434 -59.413317008771514; -123.09180738932898 -59.70965155895743; -122.31097299609085 -60.00001519374534; -121.51790760747856 -60.2843788770137; -120.71269052937015 -60.562714172631196; -119.89540228280235 -60.83499324730018; -119.06612459591877 -61.1011888733401; -118.22494039579705 -61.361274431410166; -117.37193380015621 -61.61522391317131; -116.50719010894495 -61.863011923887; -115.63079579581179 -62.10461368496262; -114.74283849945776 -62.340005036423435; -113.84340701487247 -62.569162439330434; -112.9325912844549 -62.79206297813429; -112.01048238901909 -63.00868436296689; -111.07717253868609 -63.21900493187024; -110.13275506366323 -63.42300365296273; -109.17732440491099 -63.620660126542255; -108.21097610469907 -63.811954587126166; -107.2338067970522 -63.996867905427834; -106.24591419808681 -64.17538159026947; -105.2473970962396 -64.34747779043141; -104.23835534238862 -64.51313929643702; -103.21888983986842 -64.67234954227376; -102.1891025343797 -64.82509260704971; -101.14909640379483 -64.9713532165857; -100.09897544786021 -65.11111674494262; -99.03884467779635 -65.24436921588415; -97.9688101057968 -65.37109730427422; -96.88897873442708 -65.49128833740959; -95.79945854592444 -65.6049302962871; -94.70035849139984 -65.71201181680559; -93.5917884799428 -65.81252219090221; -92.47385936763067 -65.90645136762333; -91.34668294644307 -65.99378995412955; -90.21037193308278 -66.07452921663501; -89.06503995770426 -66.14866108128072; -87.91080155255058 -66.216178134942; -86.74777214050042 -66.27707362596976; -85.57606802352578 -66.33134146486563; -84.39580637106194 -66.37897622489093; -83.2071052082906 -66.4199731426094; -82.01008340433744 -66.45432811836338; -80.80486066038534 -66.48203771668395; -79.59155749770437 -66.50309916663437; -78.37029524559972 -66.5175103620872; -77.14119602927889 -66.52526986193487; -75.90438275763921 -66.5263768902339; -74.65997911097723 -66.52083133628238; -73.40810952862059 -66.50863375463106; -72.1488991964843 -66.48978536502796; -70.88247403455226 -66.46428805229633; -69.60896068428528 -66.43214436614618; -68.32848649595715 -66.39335752091935; -67.04117951591964 -66.34793139526805; -65.74716847379801 -66.29587053176698; -64.4465827696181 -66.2371801364591; -63.139552460866554 -66.17186607833506; -61.826208249485035 -66.0999348887462; -60.506681468800245 -66.02139376075158; -59.181104070390646 -65.93625054839853; -57.8496086108914 -65.84451376593732; -56.51232823873893 -65.74619258696977; -55.169396680856046 -65.64129684353183; -53.8209482292794 -65.52983702511044; -52.467117727730475 -65.41182427759455; -51.10804055813123 -65.28727040216057; -49.74385262706608 -65.15618785409227; -48.374690352191266 -65.01858974153518; -47.000690648593356 -64.87448982418591; -45.6219909150977 -64.72390251191614; -44.23872902052876 -64.56684286333157; -42.85104328992322 -64.4033265842662; -41.459072490697785 -64.23337002621165; -40.06295581877238 -64.0569901846821; -38.662832884650776 -63.874204697514756; -37.25884369945964 -63.68503184310598; -35.85112866094748 -63.48949053858357; -34.439828539445074 -63.28760033791503; -33.02508446378848 -63.07938142995219; -31.607037907206326 -62.86485463641234; -30.18583067317256 -62.644041409796046; -28.761604881226244 -62.41696383124197; -27.334502952759742 -62.18364460831872; -25.90466759677662 -61.944107072754186; -24.472241795620985 -61.69837517810229; -23.03736879067926 -61.44647349734772; -21.600192068056202 -61.18842722044864; -20.160855344226448 -60.92426215181771; -18.719502551662913 -60.654004707741635; -17.276277824443756 -60.37768191373963; -15.831325483839 -60.09532140186082; -14.384790023878596 -59.806951407921076; -12.93681609690308 -59.51260076867951; -11.487548499098525 -59.21229891895475; -10.037132156016979 -58.90607588868151; -8.585712108084113 -58.59396229990764; -7.133433496095146 -58.2759893637319; -5.680441546701078 -57.95218887718297; -4.226881557886018 -57.62259322003964; -2.772898884437567 -57.287235351592976; -1.3186389234114109 -56.946148807350355; 0.13575290040822582 -56.59936769568197; 1.5901311490509442 -56.246926694409986; 3.0443503859038663 -55.88886104734086; 4.49826519025515 -55.52520656074089; 5.951730171835945 -55.15599959975569; 7.404599985359317 -54.7812770847737; 8.856729345054635 -54.401076487734144; 10.307973039196028 -54.01543582837989; 11.75818594462345 -53.62439367045552; 13.207223041254867 -53.227989117850946; 14.65493942658814 -52.82626181069109; 16.101190330191162 -52.41925192137192; 17.545831128178783 -52.00700015054316; 18.988717357675057 -51.58954772303837; 20.429704731259445 -51.16693638375243; 21.868649151395406 -50.73920839346708; 23.30540672484004 -50.306406524624926; 24.739833777033294 -49.868574057052165; 26.171786866465307 -49.42575477363071; 27.601122799020427 -48.97799295591988; 29.027698642296468 -48.52533337972833; 30.45137173989798 -48.06782131063644; 31.87199972570156 -47.605502499469864; 33.28944053809248 -47.13842317772446; 34.7035524341707 -46.666630052943184; 36.114194003925036 -46.19017030404534; 37.521224184374034 -45.70909157660876; 38.92450227367219 -45.22344197810531; 40.32388794517994 -44.73327007309013; 41.71924126149631 -44.23862487834524; 43.110422688452445 -43.739555857977905; 44.49729310906497 -43.236112918474284; 45.87971383744754 -42.72834640370879; 47.257546632679336 -42.21630708990976; 48.63065371262901 -41.700046180581886; 49.998897767732856 -41.17961530138587; 51.36214197472552 -40.655066494975955; 52.72025001032235 -40.12645221579564; 54.07308606485155 -39.59382532483235; 55.42051485583502 -39.05723908433132; 56.76240164151652 -38.516747152469456; 58.098612234335704 -37.97240357798951; 59.42901301434681 -37.42426279479534; 60.75347094258048 -36.872379616508475; 62.07185357434762 -36.316809230986834; 63.38402907248368 -35.75760719480601; 64.68986622053235 -35.19482942770361; 65.98923443586703 -34.62853220698736; 67.28200378274896 -34.05877216190743; 68.56804498532077 -33.48560626799352; 69.84722944053388 -32.90909184135739; 71.11942923100878 -32.32928653296127; 72.38451713782656 -31.74624832285285; 73.6423666532508 -31.160035514367255; 74.89285199337817 -30.570706728296823; 76.13584811071667 -29.978320897029086; 77.37123070669045 -29.382937258653474; 78.59887624406932 -28.784615351037722; 79.81866195932265 -28.18341500587396; 81.03046587489541 -27.5793963426957; 82.2341668114058 -26.972619762865943; 83.42964439976336 -26.36314594353698; 84.61677909320534 -25.7510358315829; 85.79545217925181 -25.136350637504766; 86.96554579157628 -24.519151829309802; 88.12694292179268 -23.899501126364427; 89.27952743115574 -23.27746049322264; 90.42318406217507 -22.65309213342932; 91.55779845014054 -22.02645848330019; 92.68325713455896 -21.397622205678022; 93.79944757049968 -20.766646183666616; 94.90625813984933 -20.13359351434228; 96.00357816247323 -19.498527502444503; 97.09129790728365 -18.861511654045156; 98.16930860321243 -18.222609670198306; 99.23750245008843 -17.58188544056987; 100.29577262941703 -16.939403037048926; 101.34401331506224 -16.295226707340362; 102.38211968382899 -15.649420868540409; 103.40998792594554 -15.002050100694724; 104.42751525544415 -14.353179140340647; 105.43459992043988 -13.702872874033472; 106.43114121330542 -13.051196331857934; 107.41703948074199 -12.398214680925136; 108.39219613374433 -11.743993218856092; 109.35651365745984 -11.088597367251788; 110.30989562093977 -10.432092665151197; 111.25224668678217 -9.774544762477506; 112.18347262066582 -9.116019413472962; 113.10348030077328 -8.456582470123758; 114.0121777271033 -7.796299875574638; 114.9094740306704 -7.135237657534886; 115.79527948259204 -6.473461921675368; 116.66950550306115 -5.811038845018232; 117.53206467020424 -5.148034669319087; 118.38287072882332 -4.484515694443061; 119.22183859902164 -3.8205482717346397; 120.04888438471122 -3.156198797382861; 120.86392538200273 -2.4915337057814644; 121.66688008747565 -1.8266194628857884; 122.45766820632856 -1.16152255956598; 123.23621066040853 -0.49630950495817006; 124.00242959611901 0.16895318018658023; 124.75624839220484 0.8341989701540684; 125.49759166741467 1.4993613409197322; 126.22638528803871 2.164373776800738; 126.94255637532227 2.8291697771077278; 127.64603331275342 3.493682862794627; 128.33674575322465 4.157846583106659; 129.01462462606742 4.821594522225215; 129.6796021439594 5.484860305909522; 130.33161180970308 6.147577608133975; 130.970588422875 6.809680157720547; 131.59646808634648 7.471101744966094; 132.20918821267264 8.13177622826302; 132.8086875303515 8.791637540713587; 133.39490608995092 9.450619696736418; 133.96778527010335 10.108656798665073; 134.5272677833682 10.765683043337699; 135.0732976819604 11.42163272867738; 135.60582036334515 12.07644026026217; 136.124782575698 12.730040157884629; 136.63013242323026 13.382367062099604; 137.12181937137825 14.03335574076033; 137.59979425185685 14.682941095541366; 138.06400926757644 15.33105816844863; 138.51441799742219 15.977642148314855; 138.9509754008965 16.62262837728094; 139.37363782262287 17.265952357261412; 139.78236299671124 17.907549756394427; 140.17711005098485 18.547356415474685; 140.55783951106724 19.185308354369504; 140.92451330432962 19.821341778416556; 141.2770947636984 20.455393084803543; 141.6155486313212 21.0873988689281; 141.93984106209348 21.71729593073856; 142.24993962704235 22.345021281053647; 142.54581331656976 22.970512147861392; 142.82743254355327 23.593705982596415; 143.09476914630486 24.214540466394492; 143.3477963913871 24.832953516324682; 143.58648897628632 25.44888329159727; 143.81082303194287 26.06226819974806; 144.02077612513824 26.67304690279733; 144.21632726073798 27.281158323383817; 144.39745688379148 27.88654165087216; 144.5641468814875 28.489136347434155; 144.716380584965 29.088882154102237; 144.85414277098064 29.685719096795594; 144.97741966343054 30.27958749231726; 145.0861989347282 30.870427954322626; 145.1804697070372 31.458181399257803; 145.26022255335877 32.042789052268155; 145.32544949847482 32.62419245307548; 145.3761440197451 33.20233346182426; 145.41230104775985 33.77715426489535; 145.43391696684634 34.34859738068751; 145.44098961543065 34.91660566536532; 145.43351828625384 35.48112231857368; 145.4115037264426 36.042090889117674; 145.37494813743456 36.59945528060774; 145.3238551747582 37.1531597570692; 145.2582299476671 37.703148948515775; 145.1780790186294 38.24936785648673; 145.08341040267118 38.79176185954638; 144.9742335665751 39.33027671874645; 144.85055942793386 39.86485858304975; 144.7124003540582 40.395453994715375; 144.55977016074038 40.92200989464426; 144.39268411087258 41.44447362768528; 144.21115891292052 41.96279294790044; 144.01521271925276 42.47691602378972; 143.8048651243253 42.986791443473905; 143.58013716272242 43.49236821983598; 143.34105130705302 43.99359579561956; 143.08763146570334 44.49042404848481; 142.81990298044641 44.98280329602043; 142.53789262390765 45.470684300712; 142.24162859688764 45.9540182748656; 141.93114052554225 46.432756885486604; 141.6064594584199 46.90685225911289; 141.26761786335658 47.37625698660219; 140.91464962422964 47.84092412787289; 140.54759003756877 48.30080721659814; 140.16647580902674 48.75586026485224; 139.77134504970874 49.20603776770962; 139.3622372723616 49.65129470779511; 138.939193387422 50.09158655978576; 138.5022556989259 50.5268692948633; 138.05146790027808 50.95709938511691; 137.58687506988275 51.38223380789615; 137.1085236666358 51.80223005011296; 136.61646152527885 52.21704611249316; 136.1107378516161 52.62664051377615; 135.5914032175934 53.03097229486316; 135.05850955624143 53.43000102291301; 134.51211015648218 53.823686795385434; 133.95225965780037 54.21199024403122; 133.37901404477927 54.59487253882914; 132.7924306415025 54.97229539186872; 132.19256810582155 55.34422106117923; 131.57948642349015 55.71061235450364; 130.9532469021656 56.07143263301797; 130.3139121652782 56.42664581499501; 129.6615461457688 56.77621637941263; 128.9962140796958 57.12010936950565; 128.31798249971123 57.45829039626166; 127.62691922840806 57.79072564185977; 126.92309337153742 58.11738186305249; 126.20657531109855 58.43822639448989; 125.47743669830032 58.7532271519862; 124.7357504463965 59.062352635728175; 123.98159072339418 59.36557193342504; 123.21503294463707 59.662854723399704; 122.43615376526441 59.95417127762091; 121.64503107254498 60.239492464676; 120.84174397808884 60.518789752684015; 120.02637280993598 60.79203521214894; 119.1989991045238 61.05920151875249; 118.3597055985333 61.32026195608668; 117.50857622061575 61.5751904183253; 116.64569608299963 61.82396141283459; 115.7711514729796 62.06655006272237; 114.8850298442879 62.30293210932586; 113.987419808349 62.53308391463733; 113.07841112541848 62.75698246366807; 112.1580946956071 62.97460536674976; 111.2265625497909 63.185930861773436; 110.28390784040825 63.39093781636569; 109.33022483214447 63.589605730001935; 108.36560889250573 63.78191473605632; 107.3901564822821 63.96784560378854; 106.40396514590178 64.14737974026671; 105.40713350167646 64.32049919222685; 104.39976123194003 64.48718664786801; 103.38194907307987 64.64742543858351; 102.35379880546378 64.80119954062782; 101.31541324326169 64.9484935767189; 100.26689622416447 65.08929281757588; 99.20835259900035 65.223583183392; 98.13988822124959 65.35135124524257; 97.06160993645977 65.47258422642788; 95.97362557156065 65.58727000375087; 94.87604392408217 65.69539710872937; 93.76897475127433 65.79695472874296; 92.652528759132 65.89193270811431; 91.52681759132386 65.9803215491246; 90.39195381802871 66.06211241296339; 89.24805092467813 66.13729712061246; 88.09522330060825 66.20586815366372; 86.93358622762068 66.26781865507095; 85.76325586845483 66.32314242983571; 84.58434925517123 66.37183394562656; 83.39698427744888 66.41388833333254; 82.20127967079603 66.4493013875499; 80.99735500467683 66.47806956700273; 79.78533067055483 66.50018999489708; 78.56532786985338 66.51566045920859; 77.3374686018358 66.5244794129037; 76.10187565140559 66.5266459740944; 74.85867257682838 66.52215992612638; 73.6079836973755 66.51102171760068; 72.3499340808927 66.4932324623289; 71.08464953129318 66.46879393922174; 69.81225657597744 66.43770859211112; 68.53288245318089 66.39997952950587; 67.2466550992496 66.35561052428079; 65.95370313584706 66.30460601329945; 64.65415585709205 66.24697109697043; 63.34814321662974 66.18271153873735; 62.035795814635705 66.11183376450245; 60.71724488475652 66.03434486198414; 59.3926222809863 65.95025258000804; 58.062060464481775 65.85956532773231; 56.725692490315694 65.7622921738066; 55.38365199417182 65.65844284546523; 54.036073178981304 65.5480277275545; 52.68309080150294 65.4310578614942; 51.32484015884685 65.30754494417344; 49.96145707494542 65.17750132678104; 48.59307788697079 65.04094001357035; 47.21983943170167 64.89787466055893"
     ]
    },
    {
     "name": "stdout",
     "output_type": "stream",
     "text": [
      "; 45.84187903183913 64.74831957416282; 44.459334482274826 64.59228970976606; 43.07234403631151 64.42980067022503; 41.68104639183819 64.26086870430831; 40.28558067745976 64.08551070507171; 38.8860864385848 63.90374420816902; 37.48270362347082 63.71558739009845; 36.0755725692301 63.521059066385014; 34.664833987795326 63.32017868969899; 33.250628951849045 63.11296634791062; 31.83309888071634 62.899442762081435; 30.412385526222938 62.67962928439206; 28.988630958520606 62.4535478960071; 27.561977551879533 62.22122120487699; 26.13256797045151 61.98267244347724; 24.700545154003382 61.73792546648518; 23.266052303623706 61.48700474839458; 21.82923286740197 61.22993538106815; 20.390230526084476 60.9667430712284; 18.94918917870604 60.697454137886936; 17.506252928200794 60.422095509712754; 16.06156606699123 60.140694722339184; 14.615273062559554 59.853279915610464; 13.167518543000853 59.55987983076771; 11.718447282560874 59.260523807574984; 10.268204187157979 58.955241781385105; 8.816934279893177 58.64406428014628; 7.3647826865476755 58.32702242134932; 5.911894621070947 58.00414790891593; 4.458415371058674 57.675473030028286; 3.004490283224635 57.341030651900375; 1.5502647488658743 57.00085421849127; 0.095884189324236 56.6549777471609; -1.358505958556429 56.30343582526814; -2.812760256973325 55.94626360671223; -4.266733281708479 55.58349680841737; -5.720279636671195 55.215171706761076; -7.173253968436995 54.84132513394662; -8.625510980783645 54.46199447431972; -10.076905449220117 54.07721766063023; -11.527292235509188 53.68703317023884; -12.976526302180627 53.291480021269514; -14.424462727035584 52.89059776870748; -15.870956717638181 52.484426500443924; -17.315863625794897 52.073006833267165; -18.759038962018742 51.656379908801135; -20.20033840997887 51.23458738939108; -21.639617840931553 50.807671453937424; -23.07673332813323 50.375674793677916; -24.511541161232508 49.93864060791867; -25.943897860641883 49.49661259971403; -27.373660191885037 49.04963497149647; -28.800685179920436 48.59775242065626; -30.224830123438206 48.14101013507202; -31.645952609130905 47.67945378859166; -33.06391052593424 47.213129536465175; -34.47856207923826 46.74208401072915; -35.889765805066276 46.266364315543704; -37.29738058422183 45.786018022481876; -38.701265656400004 45.301093165772684; -40.10128063426348 44.81163823749771; -41.49728551748129 44.31770218274184; -42.88914070672817 43.81933439469904; -44.27670701764521 43.31658470973275; -45.65984569475763 42.80950340239253; -47.03841842535043 42.2981411803865; -48.41228735329913 41.7825491795108; -49.781315092855934 41.262778958535826; -51.14536474238775 40.73888249405053; -52.504299898066435 40.21091217526474; -53.85798466750863 39.67892079877045; -55.20628368336559 39.14296156326195; -56.54906211685929 38.60308806421614; -57.88618569126548 38.059354288533; -59.21752069534075 37.51181460913707; -60.54293399669426 36.96052377953997; -61.86229305510038 36.40553692836525; -63.17546593575284 35.846909553835495; -64.48232132245766 35.28469751822273; -65.78272853076534 34.718957042261955; -67.07655752103868 34.14974469952932; -68.36367891145697 33.577117410784716; -69.64396399095355 33.00113243827992; -70.91728473208748 32.42184738003214; -72.18351380384574 31.83932016406448; -73.44252458437636 31.253609042613085; -74.69419117365052 30.66477258630197; -75.93838840605218 30.072869678286168; -77.17499186289501 29.47795950836318; -78.40387788486382 28.880101567054243; -79.62492358438062 28.27935563965521; -80.83800685789272 27.675781800258324; -82.04300639808385 27.06944040574448; -83.23980170600409 26.460392089747856; -84.42827310312012 25.84869775659246; -85.60830174328238 25.23441857520197; -86.77976962461034 24.617615972982566; -87.94255960129207 23.998351629680474; -89.09655539529899 23.376687471213927; -90.24164160801317 22.752685663480804; -91.37770373176764 22.12640860614186; -92.5046281612968 21.49791892638091; -93.62230220509684 20.867279472642135; -94.73061409669461 20.234553308345497; -95.8294530058246 19.599803705580097; -96.91870904951165 18.963094138777247; -97.99827330305915 18.324488278363; -99.06803781094122 17.68404998439131; -100.12789559759861 17.041843300157854; -101.17774067813588 16.39793244579587; -102.21746806891983 15.752381811854203; -103.24697379807793 15.105255952858238; -104.26615491589497 14.45661958085471; -105.2749095051086 13.806537558940244; -106.27313669110052 13.15507489477529; -107.26073665198406 12.50229673408333; -108.23761062858598 11.848268354136563; -109.20366093432276 11.193055157227905; -110.15879096496884 10.536722664131043; -111.10290520831718 9.879336507548283; -112.03590925373007 9.220962425547581; -112.95770980158052 8.561666254988427; -113.86821467258196 7.901513924938482; -114.76733281700605 7.240571450080546; -115.65497432378748 6.578904924111455; -116.53105042951537 5.916580513132361; -117.39547352730919 5.253664449032407; -118.2481571755796 4.590223022865545; -119.08901610667216 3.9263225782216233; -119.91796623539457 3.262029504591797; -120.73492466742478 2.597410230729867; -121.53980970760038 1.9325312180093008; -122.33254086808802 1.267458953777442; -123.11303887643228 0.6022599447064061; -123.88122568348273 -0.06299928985720943; -124.63702447119887 -0.7282522245443401; -125.38035966033179 -1.3934323346159578; -126.1111569179819 -2.058473102615239; -126.82934316503247 -2.723308025019644; -127.53484658345735 -3.387870618890973; -128.2275966235026 -4.052094428523687; -128.9075240107414 -4.715913032090216; -129.57456075300175 -5.3792600482834505; -130.2286401471652 -6.04206914295456; -130.8696967858375 -6.704274035746472; -131.49766656388888 -7.365808506721635; -132.11248668486493 -8.026606402984273; -132.71409566726584 -8.68660164529544; -133.30243335069477 -9.345728234680928; -133.8774409018736 -10.003920259030982; -134.43906082052638 -10.661111899691695; -134.98723694512927 -11.317237438046677; -135.5219144585267 -11.972231262088915; -136.0430398934128 -12.626027872981705; -136.5505611376784 -13.278561891608865; -137.04442743962193 -13.929768065112281; -137.5245894130249 -14.579581273417347; -137.99099904208995 -15.227936535744632; -138.4436096862429 -15.874769017108244; -138.8823760847965 -16.52001403479907; -139.30725436147657 -17.163607064853057; -139.71820202880951 -17.80548374850357; -140.115177992371 -18.44557989861703; -140.49814255489548 -19.083831506111892; -140.8670574202459 -19.72017474635928; -141.2218856972431 -20.35454598556551; -141.56259190335516 -20.98688178713521; -141.88914196824524 -21.61711891801519; -142.20150323717905 -22.245194355017578; -142.49964447429002 -22.871045291122115; -142.78353586570287 -23.494609141756637; -143.05314902251502 -24.11582355105575; -143.3084569836355 -24.734626398096214; -143.5494342184809 -25.350955803109034; -143.77605662952863 -25.964750133667227; -143.98830155472638 -26.575948010849274; -144.18614776975846 -27.18448831537678; -144.36957549016836 -27.79031019372647; -144.53856637333678 -28.39335306421524; -144.69310352031624 -28.99355662305864; -144.8331714775209 -29.59086085040096; -144.95875623827172 -30.18520601631726; -145.06984524419724 -30.776532686786116; -145.16642738648946 -31.364781729633325; -145.2484930070147 -31.949894320444805; -145.3160338992792 -32.53181194844911; -145.36904330925012 -33.110476422368286; -145.40751593603053 -33.685829876237186; -145.4314479323899 -34.25781477518989; -145.44083690514847 -34.82637392121317; -145.43568191541684 -35.39145045886625; -145.41598347868964 -35.95298788096618; -145.38174356479416 -36.510930034238726; -145.3329655976933 -37.06522112493353; -145.26965445514298 -37.61580572440346; -145.19181646820485 -38.16262877464732; -145.0994594206127 -38.705635593815785; -144.99259254799424 -39.244771881679455; -144.87122653694774 -39.77998372505888; -144.7353735239732 -40.31121760321563]\n",
      "this is PDOP: 66.18154819096489\n"
     ]
    },
    {
     "name": "stdout",
     "output_type": "stream",
     "text": [
      "this is r_ellipse: [-147.00106467302325 -32.94556650688149; -146.87391356930348 -33.4784643371623; -146.73207519662125 -34.00801434890801; -146.57556373869573 -34.53416358755876; -146.40439484654217 -35.05685943862911; -146.2185856369073 -35.57604963296958; -146.0181546905571 -36.09168225199333; -145.80312205041923 -36.6037057328682; -145.57350921957854 -37.11206887367277; -145.32933915912676 -37.616720838516585; -145.0706362858664 -38.11761116262371; -144.7974264698693 -38.61468975737915; -144.5097370318893 -39.10790691533766; -144.20759674063046 -39.59721331519444; -143.8910358098702 -40.08256002671727; -143.56008589543774 -40.563898515639444; -143.21478009204873 -41.0411806485132; -142.85515292999577 -41.51435869752297; -142.4812403716954 -41.98338534525817; -142.09307980809183 -42.448213689444884; -141.69071005491793 -42.90879724763605; -141.27417134881375 -43.36508996185966; -140.84350534330275 -43.817046203224535; -140.39875510462662 -44.26462077648318; -139.93996510743864 -44.70776892455123; -139.46718123035615 -45.14644633298318; -138.98045075137287 -45.580609134403744; -138.4798223431311 -46.01021391289458; -137.9653460680545 -46.43521770833585; -137.43707337334183 -46.85557802070216; -136.89505708582234 -47.27125281431259; -136.3393514066731 -47.68220052203417; -135.77001190599893 -48.088380049438584; -135.1870955172755 -48.48975077891157; -134.59066053165583 -48.88627257371465; -133.98076659214152 -49.27790578199879; -133.35747468761832 -49.66461124076951; -132.72084714675717 -50.0463502798032; -132.07094763178165 -50.42308472551405; -131.40784113210174 -50.794776904771446; -130.7315939578148 -51.16138964866721; -130.0422737330747 -51.522886296232464; -129.33994938932946 -51.87923069810367; -128.62469115842825 -52.23038722013763; -127.8965705655981 -52.57632074697475; -127.15566042229149 -52.91699668555063; -126.40203481890532 -53.2523809685553; -125.63576911737198 -53.58244005783995; -124.856939943623 -53.9071409477707; -124.06562517992676 -54.226451168529145; -123.26190395710024 -54.5403387893593; -122.4458566465959 -54.84877242176065; -121.61756485246478 -55.151721222626975; -120.77711140319605 -55.449154897330644; -119.92458034343424 -55.74104370275208; -119.06005692557491 -56.02735845025393; -118.1836276012394 -56.308070508600075; -117.29538001262978 -56.58315180681859; -116.39540298376475 -56.8525748370089; -115.4837865115972 -57.11631265709249; -114.56062175701463 -57.374338893507144; -113.62600103572323 -57.62662774384424; -112.68001780901628 -57.87315397942898; -111.72276667442813 -58.11389294784324; -110.75434335627453 -58.348820575390796; -109.77484469608028 -58.57791336950467; -108.78436864289517 -58.801148421096364; -107.7830142434991 -59.01850340684675; -106.77088163249755 -59.22995659143836; -105.7480720223082 -59.43548682972896; -104.7146876930397 -59.635073568866; -103.67083198226388 -59.82869685034187; -102.61660927468189 -60.016337311989794; -101.55212499168597 -60.19797618991998; -100.4774855808174 -60.373595320395964; -99.39279850512168 -60.543177141651086; -98.29817223240252 -60.70670469564452; -97.19371622437498 -60.864161629757135; -96.0795409257195 -61.01553219842675; -94.95575775303746 -61.16080126472262; -93.82247908370965 -61.29995430185919; -92.6798182446586 -61.432977394648695; -91.52788950101602 -61.55985724089271; -90.36680804469633 -61.68058115271235; -89.19668998287761 -61.79513705781702; -88.01765232639092 -61.9035135007117; -86.82981297801938 -62.0056996438424; -85.63329072070798 -62.101685268679944; -84.42820520568533 -62.19146077674186; -83.21467694049872 -62.27501719055215; -81.99282727696338 -62.35234615453905; -80.76277839902751 -62.423439935870626; -79.52465331055379 -62.48829142522796; -78.27857582301937 -62.54689413751618; -77.02467054313456 -62.599242212512884; -75.76306286038246 -62.645330415454204; -74.49387893448 -62.68515413755824; -73.2172456827621 -62.718709396485984; -71.93329076749009 -62.74599283673948; -70.64214258308554 -62.76700172999747; -69.34393024329097 -62.781733975388114; -68.03878356825845 -62.790188099699165; -66.72683307156791 -62.79236325752522; -65.40820994717573 -62.78825923135231; -64.0830460562955 -62.77787643157966; -62.75147391421198 -62.76121589647856; -61.41362667702975 -62.73827929208865; -60.06963812835769 -62.70906891205126; -58.719642665930664 -62.673587677380056; -57.363775288169904 -62.631839136168914; -56.00217158068333 -62.58382746323719; -54.634967702706994 -62.52955745971216; -53.26230037348938 -62.46903455254894; -51.88430685861951 -62.40226479398783; -50.501124956300565 -62.32925486094903; -49.11289298357012 -62.25001205436501; -47.71974976246862 -62.16454429845039; -46.32183460615717 -62.072860139909544; -44.91928730498651 -61.97496874708192; -43.51224811251796 -61.8708799090252; -42.10085773149824 -61.7606040345365; -40.68525729978931 -61.644152151111335; -39.26558837625466 -61.521535903841006; -37.84199292660361 -61.39276755424808; -36.414613309194785 -61.257859979060186; -34.98359226080045 -61.11682666892244; -33.54907288233293 -60.969681727048325; -32.111198624534644 -60.81643986780941; -30.67011327363315 -60.65711641526389; -29.225960936962622 -60.49172730162428; -27.778886028553295 -60.32028906566412; -26.32903325469011 -60.14281885106413; -24.876547599442244 -59.959334404697884; -23.421574310164818 -59.769854074857115; -21.964258882974285 -59.574396809416896; -20.50474704819895 -59.37298215394091; -19.043184755806028 -59.165630249726846; -17.579718160806788 -58.95236183179233; -16.114493608641183 -58.733198226801456; -14.647657620543416 -58.508161350932056; -13.179356878889939 -58.27727370768421; -11.70973821253136 -58.040558385629836; -10.238948582109582 -57.79803905610385; -8.767135065362021 -57.54973997083714; -7.29444484241384 -57.2956859595313; -5.821025181060109 -57.035902427375746; -4.347023422039103 -56.77041535250723; -2.872586964298408 -56.49925128341197; -1.3978632502550943 -56.22243733627092; 0.07700024894836319 -55.940001192248126; 1.5518560481910941 -55.65197109472261; 3.026556663122212 -55.35837584646412; 4.500954624909141 -55.05924480675281; 5.974902494984361 -54.75460788844337; 7.4482528797891545 -54.44449555497378; 8.920858445512824 -54.12893881731895; 10.392571932825964 -53.80796923088968; 11.863246171606272 -53.481618892377156; 13.332734095655423 -53.149920436543255; 14.800888757405582 -52.81290703295715; 16.267563342614036 -52.47061238267837; 17.732611185044487 -52.12307071488668; 19.19588578113356 -51.77031678345924; 20.657240804641035 -51.41238586349526; 22.11653012128236 -51.04931374778843; 23.573607803341933 -50.681136743247784; 25.02832814426578 -50.307891667266944; 26.48054567323204 -49.92961584404249; 27.93011516969806 -49.5463471008415; 29.376891677922124 -49.15812376421891; 30.820730521459055 -48.76498465618486; 32.261487317627704 -48.36696909032255; 33.69901799194907 -47.96411686785687; 35.13317879255366 -47.55646827367438; 36.56382630455655 -47.14406407229478; 37.99081746439873 -46.72694550379454; 39.41400957415339 -46.30515427968291; 40.83326031579553 -45.87873257873081; 42.24842776543368 -45.44772304275299; 43.659370407502216 -45.01216877234387; 45.06594714891268 -44.572113322567525; 46.468017333163075 -44.12760069860223; 47.86544075440338 -43.678675351339955; 49.25807767145597 -43.225382172941316; 50.645788821789694 -42.767766492346425; 52.028435435445914 -42.30587407074198; 53.405879248915475 -41.83975109698524; 54.77798251896489 -41.36944418298514; 56.14460803641057 -40.89500035904117; 57.50561913983964 -40.416467069140346; 58.86087972927591 -39.933892166212885; 60.21025427978982 -39.447323907346934; 61.553607855050764 -38.95681094896292; 62.89080612082074 -38.4624023419479; 64.22171535838747 -37.96414752675058; 65.54620247793626 -37.46209632843727; 66.86413503185892 -36.95629895170942; 68.17538122799833 -36.44680597588322; 69.47980994282756 -35.93366834983166; 70.77729073456216 -35.41693738688976; 72.06769385620419 -34.89666475972317; 73.35089026851682 -34.37290249516106; 74.62675165292808 -33.84570296899344; 75.89515042436288 -33.31511890073356; 77.1559597440009 -32.78120334834614; 78.40905353196098 -32.24400970294146; 79.65430647990854 -31.703591683436382; 80.89159406358645 -31.160003331182548; 82.12079255526749 -30.613299004562165; 83.3417790361267 -30.063533373552346; 84.55443140853362 -29.510761414258003; 85.7586284082614 -28.955038403414484; 86.95424961661368 -28.396419912859717; 88.14117547246595 -27.834961803977286; 89.3192872842217 -27.270720222110167; 90.48846724168148 -26.70375159094637; 91.64859842782396 -26.134112606876517; 92.79956483049716 -25.561860233324364; 93.94125135402011 -24.98705169505031; 95.07354383069168 -24.40974447242928; 96.19632903220794 -23.82999629570234; 97.30949468098427 -23.247865139204134; 98.41292946138353 -22.663409215565142; 99.5065230308471 -22.07668696989072; 100.59016603092948 -21.487757073916463; 101.66375009823356 -20.89667842014124; 102.72716787524737 -20.303510115937826; 103.78031302107931 -19.708311477642376; 104.82308022209246 -19.111142024622684; 105.85536520243566 -18.51206147332644; 106.87706473447118 -17.91112973130951; 107.8880766490971 -17.30840689124536; 108.88829984596457 -16.70395322491572; 109.87763430358743 -16.097829177183474; 110.85598108934427 -15.490095359948349; 111.82324236937187 -14.880812546085572; 112.77932141834826 -14.270041663368854; 113.72412262916528 -13.657843788377425; 114.65755152248916 -13.044280140388683; 115.57951475620844 -12.429412075256076; 116.48992013476804 -11.813301079273772; 117.38867661838877 -11.196008763027912; 118.27569433217123 -10.577596855235743; 119.15088457508324 -9.958127196572667; 120.01415982882978 -9.337661733488364; 120.86543376660492 -8.716262512012054; 121.70462126172424 -8.093991671548089; 122.53163839613761 -7.470911438661907; 123.3464024688207 -6.847084120857633; 124.14883200404526 -6.222572100347126; 124.93884675952637 -5.597437827812074; 125.71636773444695 -4.971743816158735; 126.48131717735731 -4.345552634266908; 127.23361859395074 -3.718926900732913; 127.9731967547124 -3.091929277607962; 128.69997770244262 -2.4646224641318204; 129.41388875965214 -1.8370691904631358; 130.11485853583028 -1.209332211406304; 130.80281693458355 -0.5814743001360674; 131.47769516064528 0.04644175807959156; 132.1394257267554 0.6743531721581709; 132.7879424604086 1.3021971514814723; 133.42318051047206 1.9299109121748017; 134.04507635367005 2.5574316833851487; 134.6535678009366 3.1846967135583704; 135.2485940036339 3.8116432767141157; 135.83009545963768 4.438208678718567; 136.39801401928685 5.064330263553619; 136.9522928911987 5.689945419582606; 137.49287664794798 6.314991585811216; 138.01971123160948 6.939406258143739; 138.5327439591639 7.56312699563325; 139.0319235277659 8.186091426725804; 139.5172000198747 8.808237255497376; 139.9885249082455 9.429502267883596; 140.44585106078213 10.049824337900903; 140.88913274525055 10.669141433859266; 141.3183256338516 11.287391624565133; 141.73338680765423 11.904513085514704; 142.13427476088677 12.520444105076095; 142.52094940508812 13.135123090660672; 142.893372073116 13.748488574882051; 143.25150552301398 14.360479221702985; 143.59531394173553 14.971033832568796; 143.92476294872526 15.580091352527145; 144.23981959935702 16.187590876333637; 144.54045238822826 16.793471654542074; 144.82663125231068 17.397673099579606; 145.09832757395634 18.000134791805156; 145.35551418375945 18.60079648555162; 145.5981653632734 19.199598115150117; 145.8262568475824 19.796479800936737; 146.03976582772813 20.391381855240244; 146.2386709529905 20.984244788351017; 146.4229523330227 21.575009314469735; 146.59259153984036 22.16361635763616; 146.74757160966408 22.750007057636413; 146.8878770446161 23.334122775889192; 147.01349381426976 23.915905101309402; 147.12440935705283 24.495295856149358; 147.2206125815035 25.072237101816356; 147.30209386737945 25.646671144666655; 147.36884506662003 26.218540541774622; 147.42085950416083 26.787788106677134; 147.45813197860159 27.35435691509205; 147.4806587627258 27.918190310610697; 147.48843760387393 28.47923191036335; 147.48146772416828 29.037425610657586; 147.45974982059101 29.592715592588526; 147.4232860649144 30.145046327620708; 147.37208010348365 30.69436258314094; 147.30613705685218 31.24060942798139; 147.22546351926974 31.78373223791281; 147.1300675580229 32.32367670110679; 147.01995871262815 32.86038882356697; 146.8951479938784 33.39381493452835; 146.75564788274147 33.923901691824376; 146.60147232911226 34.45059608722103; 146.4326367504176 34.973845451717715; 146.2491580300747 35.49359746081398; 146.05105451580266 36.00980013974208; 145.83834601778784 36.52240186866426; 145.61105380670287 37.031351387834825; 145.3692006115793 37.536597802725936"
     ]
    },
    {
     "name": "stdout",
     "output_type": "stream",
     "text": [
      "; 145.1128106175352 38.038090589117196; 144.84190946335625 38.535779598147826; 144.55652423893218 39.029615061331704; 144.25668348254757 39.51954759553399; 143.94241717802822 40.005528207909606; 143.61375675174267 40.487508300802226; 143.27073506945968 40.96543967660428; 142.91338643306167 41.43927454257639; 142.54174657711437 41.908965515626875; 142.15585266529376 42.37446562704981; 141.7557432866695 42.83572832722197; 141.34145845184594 43.292707490257754; 140.91303958896134 43.74535741862163; 140.470529539545 44.193632847698; 140.01397255423308 44.63748895031749; 139.54341428834366 45.07688134123975; 139.0589017973112 45.5117660815918; 138.560483531981 45.942099683262065; 138.0482093337643 46.367839113248934; 137.52213042965403 46.78894179796424; 136.98229942710222 47.20536562749039; 136.4287703087592 47.617068959791474; 135.8615984270756 48.02401062487733; 135.28084049876685 48.42614992892058; 134.68655459914194 48.823446658325906; 134.07880015629547 49.2158610837515; 133.4576379451654 49.603353964081776; 132.82313008145513 49.98588655035166; 132.17534001542228 50.36342058962125; 131.51433252553363 50.735918328801276; 130.84017371198735 51.10334251842819; 130.152930990103 51.46565641638926; 129.45267308358 51.82282379159658; 128.7394700176255 52.17480892761029; 128.01339311195184 52.52157662621009; 127.27451497364449 52.86309221091511; 126.52290948990142 53.199321530451485; 125.7586518206448 53.530230962167415; 124.98181839100464 53.85578741539552; 124.19248688367657 54.17595833476174; 123.39073623115348 54.49071170344098; 122.57664660783261 54.80001604635865; 121.75029942199777 55.103840433338206; 120.91177730767899 55.402154482194135; 120.06116411638892 55.694928361770174; 119.19854490873789 55.98213279492231; 118.3240059459277 56.26373906144658; 117.43763468112599 56.53971900095099; 116.53951975072049 56.810045015671584; 115.6297509654559 57.074690073232155; 114.70841930145251 57.33362770934749; 113.7756168911091 57.58683203046975; 112.83143701388917 57.83427771637784; 111.8759740869938 58.075940022709354; 110.90932365591938 58.311794783435055; 109.93158238490354 58.54181841327541; 108.94284804725847 58.765987910059124; 107.94321951559415 58.984280857023336; 106.9327967519306 59.196675425055226; 105.91168079770227 59.40315037487503; 104.87997376365365 59.603685059159794; 103.83777881962826 59.79825942460822; 102.78520018425216 59.98685401394591; 101.72234311451163 60.169449967871074; 100.64931389522803 60.34602902694049; 99.56621982842901 60.5165735333954; 98.47316922261881 60.681066432927295; 97.37027138194694 60.839491276383264; 96.2576365952786 60.991832221411016; 95.13537612516507 61.138074034042994; 94.00360219671829 61.278202090219764; 92.86242798638787 61.412202377252534; 91.71196761064398 61.540061495224236; 90.55233611456534 61.661766658329626; 89.38364946033533 61.777305696153824; 88.20602451564538 61.886667054889315; 87.01957904200864 61.98983979849137; 85.82443168298381 62.0868136097716; 84.62070195231071 62.1775787914297; 83.40851022195947 62.262126267023135; 82.18797771009292 62.3404475818748; 80.95922646894509 62.41253490391846; 79.72237937261607 62.478381024482026; 78.477560104785 62.53797935900827; 77.22489314634119 62.59132394771343; 75.9645037629366 62.638409456183076; 74.69651799245928 62.679231175905606; 73.42106263242948 62.713785024743075; 72.13826522732055 62.74206754733936; 70.84825405580393 62.76407591546581; 69.55115811792174 62.77980792830393; 68.24710712218673 62.789262012665546; 66.93623147261206 62.792437223150124; 65.61866225567009 62.78933324223924; 64.2945312271846 62.77995038032839; 62.963970799154886 62.764289575695955; 61.62711402651517 62.74235239440936; 60.28409459382856 62.71414103016844; 58.935046801919135 62.67965830408612; 57.580105554441786 62.638907664406254; 56.21940634439238 62.59189318615888; 54.853085240557874 62.538619570752616; 53.481278873910064 62.47909214550462; 52.104124423942324 62.41331686310781; 50.721759604952275 62.341300301035616; 49.33432265226972 62.26304966088423; 47.941952308433734 62.178572767652454; 46.54478780931828 62.08787806895921; 45.14296887020921 61.9909746341988; 43.73663567183213 61.88787215363395; 42.32592884633495 61.778580937426796; 40.91098946322449 61.66311191460787; 39.49195901526023 61.54147663198323; 38.06897940430428 61.4136872529798; 36.64219292713195 61.27975655642897; 35.21174226120197 61.1396979352888; 33.77777045038876 60.99352539530465; 32.340420890678686 60.841253553608766; 30.899837315829807 60.682897637258385; 29.456163782999127 60.518473481713194; 28.009544658336733 60.347997529251714; 26.560124602549845 60.17148682732716; 25.108048556436064 59.9889590268626; 23.653461726389953 59.800432380486; 22.196509569882217 59.605925740704855; 20.73733778091465 59.40545855802109; 19.276092275450054 59.19905087898591; 17.81291917682127 58.98672334419521; 16.347964801118724 58.76849718622551; 14.881375642559453 58.54439422751079; 13.41329835883703 58.31443687816015; 11.943879756456438 58.07864813371691; 10.473266776053267 57.837051572858975; 9.001606477700314 57.58967135504117; 7.529046026200906 57.33653221807908; 6.055732676373061 57.07765947567547; 4.581813758323881 56.813079014888835; 3.1074366627171557 56.5428172935448; 1.6327488260336862 56.26690133759027; 0.15789771582822915 55.985358738390914; -1.3169691840172264 55.69821764997202; -2.791704388041883 55.40550678620314; -4.266160423954018 55.107255417926766; -5.740189847378877 54.80349337003115; -7.213645256602475 54.49425101846796; -8.686379307311894 54.17955928721462; -10.158244727329079 53.859449645182075; -11.629094331338704 53.533954103067735; -13.098781035606075 53.20310521015457; -14.567157872685632 52.86693605105613; -16.034078006117046 52.52548024240825; -17.499394745109537 52.178771929507214; -18.962961559210296 51.82684578289538; -20.42463209295768 51.46973699489414; -21.884260180516108 51.10748127608474; -23.341699860293307 50.740114851737154; -24.79680538953583 50.36767445818768; -26.249431258903464 49.990197339165285; -27.69943220701953 49.607721242067356; -29.146663234997675 49.22028441418486; -30.59097962094113 48.827925598877705; -32.03223693441501 48.43068403170044; -33.470291050888775 48.02859943647879; -34.90499816614926 47.62171202133721; -36.33621481068053 47.21006247467812; -37.76379786401081 46.79369196111315; -39.18760456902455 46.37264211734664; -40.60749254623748 45.94695504801217; -42.023319808035254 45.5166733214619; -43.43494477287154 45.08183996550993; -44.84222627942634 44.642498463129435; -46.24502360072146 44.198692748104634; -47.64319645819389 43.75046720063713; -49.03660503572305 43.29786664290817; -50.42510999361246 42.84093633459632; -51.80857248252316 42.3797219683517; -53.186854157359285 41.91426966522658; -54.55981719110189 41.44462597006336; -55.92732428859188 40.970837846840176; -57.28923870025884 40.49295267397461; -58.645424235796646 40.01101823958564; -59.99574527778189 39.52508273671513; -61.34006679523578 39.035194758508354; -62.678254357126555 38.541403293355; -64.01017414581334 38.04375771999003; -65.33569297042717 37.542307802556095; -66.65467828019031 37.03710368562702; -67.96699817767069 36.52819588919357; -69.27252143197228 36.01563530361125; -70.57111749185758 35.49947318451151; -71.86265649880275 34.97976114767611; -73.14700929998352 34.45655116387561; -74.42404746118982 33.92989555367246; -75.69364327966983 33.399846982188755; -76.95566979689968 32.86645845383995; -78.21000081127947 32.32978330703433; -79.45651089075281 31.78987520883946; -80.69507538535063 31.246788149615178; -81.92557043965557 30.700576437614846; -83.14787300518773 30.151294693554423; -84.36186085270893 29.598997845150684; -85.56741258444619 29.043741121628187; -86.76440764623091 28.485580048196564; -87.95272633955456 27.924570440497977; -89.13224983353787 27.360768399025776; -90.30286017681442 26.794230303514254; -91.46444030932544 26.22501280730082; -92.61687407402574 25.65317283166071; -93.76004622849901 25.078767560115065; -94.89384245648253 24.501854432712307; -96.01814937929836 23.92249114028442; -97.13285456719119 23.340735618677808; -98.237846550571 22.75664604295991; -99.33301483116036 22.170280821601537; -100.41824989304381 21.58169859063617; -101.49344321361957 20.990958207796428; -102.55848727445165 20.39811874662826; -103.6132755720213 19.803239490583863; -104.65770262837786 19.206379927093046; -105.69166400168604 18.607599741614788; -106.71505629667024 18.006958811668596; -107.72777717495363 17.40451720084704; -108.72972536529232 16.800335152809115; -109.72080067370233 16.19447308525614; -110.70090399347873 15.586991583889933; -111.66993731510613 14.977951396354516; -112.62780373606002 14.367413426161042; -113.57440747049647 13.755438726597758; -114.509653858831 13.142088494624575; -115.43344937720393 12.527424064753712; -116.34570164683336 11.91150690291584; -117.24631944325257 11.294398600313903; -118.13521270543245 10.676160867263853; -119.0122925447874 10.056855527023895; -119.87747125406445 9.436544509611918; -120.73066231611365 8.815289845612746; -121.57178041253988 8.19315365997501; -122.40074143223423 7.570198165798934; -123.21746247978565 6.946485658114755; -124.02186188376997 6.322078507653487; -124.8138592049171 5.697039154609838; -125.59337524415504 5.07143010239818; -126.3603320505293 4.445313911402519; -127.11465292899838 3.8187531927201346; -127.85626244810314 3.1918106019007597; -128.58508644750964 2.5645488326809716; -129.30105204542525 1.937030610715092; -130.00408764588678 1.3093186873023293; -130.69412294592016 0.6814758331119243; -131.3710889425704 0.053564831906056085; -132.03491793980183 -0.5743515257383182; -132.68554355526805 -1.202210448708738; -133.32290072694965 -1.8299491516361288; -133.94692571966067 -2.457504861173364; -134.55755613142168 -3.0848148222723357; -135.15473089970052 -3.711816304459758; -135.73839030751796 -4.338446608109898; -136.30847598941963 -4.964643070714641; -136.86493093731232 -5.590343073149457; -137.40769950616505 -6.215484045935557; -137.93672741957315 -6.8400034754966095; -138.45196177518625 -7.463838910410157; -138.95335104999802 -8.086927967652452; -139.44084510549888 -8.709208338837067; -139.91439519268954 -9.330617796445448; -140.37395395695583 -9.951094200049672; -140.81947544280436 -10.570575502526498; -141.25091509845777"
     ]
    },
    {
     "name": "stdout",
     "output_type": "stream",
     "text": [
      " -11.188999756261797; -141.66822978030999 -11.806305119345605; -142.0713777572407 -12.422429861756036; -142.46031871478812 -13.037312371532337; -142.83501375918058 -13.65089116093582; -143.19542542122588 -14.263104872598916; -143.5415176600582 -14.87389228566063; -143.87325586674203 -15.483192321888701; -144.19060686773315 -16.090944051787147; -144.493538928196 -16.69708670068949; -144.78202175517686 -17.30155965483596; -145.05602650063352 -17.904302467434917; -145.31552576431974 -18.505254864707275; -145.56049359652533 -19.104356751914157; -145.7909055006713 -19.701548219366092; -146.00673843575927 -20.296769548414048; -146.2079708186755 -20.889961217421025; -146.39458252634944 -21.481063907714507; -146.56655489776583 -22.070018509518043; -146.72387073583081 -22.6567661278623; -146.8665143090917 -23.241248088474297; -146.99447135331005 -23.82340594364509; -147.10772907288802 -24.40318147807428; -147.2062761421481 -24.980516714691646; -147.29010270646546 -25.55535392045451; -147.3592003832535 -26.12763561212138; -147.41356226280212 -26.697304562000006; -147.4531829089687 -27.264303803670106; -147.47805835972164 -27.82857663768007; -147.48818612753658 -28.39006663721662; -147.48356519964517 -28.948717653747746; -147.46419603813635 -29.50447382263737; -147.43008057991017 -30.057279568731737; -147.38122223648392 -30.60707961191684; -147.31762589365135 -31.15381897264657; -147.2392979109937 -31.69744297744046; -147.1462461212439 -32.2378972643511; -147.0384798295035 -32.77512778840009]\n"
     ]
    }
   ],
   "source": [
    "#LOAD the Figure\n",
    "\n",
    "#scene = Scene(backgroundcolor=:black, show_axis=true, resolution=(2048,1024))\n",
    "\n",
    "#earth_mesh = mesh(scene, Sphere(Point3f0(0), 6371f0), color= earth)\n",
    "\n",
    "#F = Figure(backgroundcolor = :black)\n",
    "#ax = Axis(F[1,1], backgroundcolor = :transparent)\n",
    "\n",
    "\n",
    "#mesh!(Sphere(Point3f0(0), 6371f0), color= earth)\n",
    "    \n",
    "    \n",
    "    #println(\"this is svalues: \", svalues)\n",
    "\n",
    "#f = Figure()\n",
    "#f = Figure(resolution=(2048,1024))\n",
    "#Axis(f[1, 1], title = \"Interactive Orbit Plot\")\n",
    "\n",
    "#working before\n",
    "\n",
    "earth = load(download(\"https://svs.gsfc.nasa.gov/vis/a000000/a002900/a002915/bluemarble-2048.png\"));\n",
    "\n",
    "#allows user zoom and drag\n",
    "fig, ax, earth = mesh(Sphere(Point3f0(0), 6371f0), color= earth, figure = (resolution = (1000, 1000),))\n",
    "\n",
    "#works before. Fixes 3D \n",
    "# fig, axis, earth = mesh(Sphere(Point3f0(0), 6371f0), color= earth, figure = (resolution = (1000, 1000),), \n",
    "# axis = (; type = Axis3, protrusions = (0, 0, 0, 0),\n",
    "#         viewmode = :fit, limits = (-7000, 7000, -7000, 7000, -7000, 7000)))\n",
    "\n",
    "# fig, axis, earth = mesh(Sphere(Point3f0(0), 6371f0), color= earth, figure = (resolution = (1000, 1000),) \n",
    "# )\n",
    "\n",
    "\n",
    "\n",
    "#, limits = (-7000, 7000, -7000, 7000, -7000, 7000)\n",
    "\n",
    "\n",
    "\n",
    "#wireframe!(axis, Sphere(Point3f0(0), 6371f0), color=(:black, 0.2), linewidth=2, transparency=true)\n",
    "\n",
    "#fig = Figure();\n",
    "\n",
    "#ax = Axis(fig[1,1])\n",
    "\n",
    "#mesh!(Sphere(Point3f0(0), 6371f0), color= earth, figure = (resolution = (1000, 1000),))\n",
    "\n",
    "along = Observable(Int(1))\n",
    "ellipse_x = Observable(zeros(629))\n",
    "ellipse_y = Observable(zeros(629))\n",
    "\n",
    "eci_1_x = Observable(eci_1_s[1,:])\n",
    "eci_2_x = Observable(eci_2_s[1,:])\n",
    "eci_3_x = Observable(eci_3_s[1,:])\n",
    "eci_4_x = Observable(eci_4_s[1,:])\n",
    "\n",
    "eci_1_y = Observable(eci_1_s[2,:])\n",
    "eci_2_y = Observable(eci_2_s[2,:])\n",
    "eci_3_y = Observable(eci_3_s[2,:])\n",
    "eci_4_y = Observable(eci_4_s[2,:])\n",
    "\n",
    "eci_1_z = Observable(eci_1_s[3,:])\n",
    "eci_2_z = Observable(eci_2_s[3,:])\n",
    "eci_3_z = Observable(eci_3_s[3,:])\n",
    "eci_4_z = Observable(eci_4_s[3,:])\n",
    "\n",
    "sats = Observable([Point3f0(eci_1_s[1,1],eci_1_s[2,1],eci_1_s[3,1]), \n",
    "                   Point3f0(eci_2_s[1,1],eci_2_s[2,1],eci_2_s[3,1]),\n",
    "                   Point3f0(eci_3_s[1,1],eci_3_s[2,1],eci_3_s[3,1]),\n",
    "                   Point3f0(eci_4_s[1,1],eci_4_s[2,1],eci_4_s[3,1])])\n",
    "\n",
    "# sats = Observable([Point3f0(eci_1_s[1,along],eci_1_s[2,along],eci_1_s[3,along]), \n",
    "#                    Point3f0(eci_2_s[1,along],eci_2_s[2,along],eci_2_s[3,along]),\n",
    "#                    Point3f0(eci_3_s[1,along],eci_3_s[2,along],eci_3_s[3,along]),\n",
    "#                    Point3f0(eci_4_s[1,along],eci_4_s[2,along],eci_4_s[3,along])])\n",
    "\n",
    "\n",
    "guess = Observable(Point3f0(eci_1_s[1,1],eci_1_s[2,1],eci_1_s[3,1]))\n",
    "\n",
    "lsgrid = labelslidergrid!(\n",
    "    fig,\n",
    "    [\"Orbit Altitude\", \"RAAN Seperation\", \"True Anomaly Seperation\", \"Delta True Anomaly Seperation\", \"Time Step\"],\n",
    "    [400:100:1200, 1:1:5, 1:0.5:15, 1:1:5, 1:10:1000];\n",
    "    formats = [x -> \"$(round(x, digits = 1))$s\" for s in [\"km\", \"Degrees\", \"Degrees\", \"Degrees\", \" \"]],\n",
    "    width = 500,\n",
    "    tellheight = false)\n",
    "\n",
    "#this puts the result on the bottom \n",
    "#fig[2, 1] = lsgrid.layout\n",
    "\n",
    "fig[1,2] = lsgrid.layout\n",
    "\n",
    "sliderobservables = [s.value for s in lsgrid.sliders]\n",
    "bars = lift(sliderobservables...) do slvalues...\n",
    "    values = [slvalues...]\n",
    "    altitude = values[1]\n",
    "    RAAN_sep = values[2]\n",
    "    true_anom = values[3]\n",
    "    delta_true_anom = values[4]\n",
    "    alongorbit = values[5]\n",
    "    \n",
    "    #println(\"this is values; \", values)\n",
    "    \n",
    "    eci_1_update, eci_2_update, eci_3_update, eci_4_update, xyz_ = orbit_update(true_anom, RAAN_sep, delta_true_anom, altitude);\n",
    "    \n",
    "    \n",
    "    #covariance = calculate_covariance(sat_poses)\n",
    "    \n",
    "    #println(\"this is type: \", typeof(eci_1))\n",
    "    eci_1_x[] = eci_1_update[1,:]\n",
    "    eci_2_x[] = eci_2_update[1,:]\n",
    "    eci_3_x[] = eci_3_update[1,:]\n",
    "    eci_4_x[] = eci_4_update[1,:]\n",
    "    \n",
    "    eci_1_y[] = eci_1_update[2,:]\n",
    "    eci_2_y[] = eci_2_update[2,:]\n",
    "    eci_3_y[] = eci_3_update[2,:]\n",
    "    eci_4_y[] = eci_4_update[2,:]\n",
    "    \n",
    "    eci_1_z[] = eci_1_update[3,:]\n",
    "    eci_2_z[] = eci_2_update[3,:]\n",
    "    eci_3_z[] = eci_3_update[3,:]\n",
    "    eci_4_z[] = eci_4_update[3,:]\n",
    "    \n",
    "    along[] = alongorbit \n",
    "    \n",
    "    intorbit = Int(alongorbit)\n",
    "    \n",
    "    #sat_poses is in km\n",
    "    sat_poses = [eci_1_update[1,intorbit] eci_1_update[2,intorbit] eci_1_update[3,intorbit]; \n",
    "                 eci_2_update[1,intorbit] eci_2_update[2,intorbit] eci_2_update[3,intorbit];\n",
    "                 eci_3_update[1,intorbit] eci_3_update[2,intorbit] eci_3_update[3,intorbit];\n",
    "                 eci_4_update[1,intorbit] eci_4_update[2,intorbit] eci_4_update[3,intorbit]]\n",
    "    \n",
    "    #println(\"this is sat poses: \", sat_poses)\n",
    "    sats[] = [Point3f0(eci_1_update[1,intorbit],eci_1_update[2,intorbit],eci_1_update[3,intorbit]), \n",
    "                   Point3f0(eci_2_update[1,intorbit],eci_2_update[2,intorbit],eci_2_update[3,intorbit]),\n",
    "                   Point3f0(eci_3_update[1,intorbit],eci_3_update[2,intorbit],eci_3_update[3,intorbit]),\n",
    "                   Point3f0(eci_4_update[1,intorbit],eci_4_update[2,intorbit],eci_4_update[3,intorbit])]\n",
    "    \n",
    "    \n",
    "    #println(\"this is sats 1: \", eci_1_update[1, intorbit])\n",
    "    centroid_guess = [(eci_1_update[1,intorbit]+eci_2_update[1,intorbit]+eci_3_update[1,intorbit]+eci_4_update[1,intorbit])/4,\n",
    "                      (eci_1_update[2,intorbit]+eci_2_update[2,intorbit]+eci_3_update[2,intorbit]+eci_4_update[2,intorbit])/4,\n",
    "                      (eci_1_update[3,intorbit]+eci_2_update[3,intorbit]+eci_3_update[3,intorbit]+eci_4_update[3,intorbit])/4] \n",
    "    \n",
    "    onearth = sECEFtoGEOC(centroid_guess, use_degrees = true)\n",
    "    geodetic = [onearth[1], onearth[2], 0]\n",
    "\n",
    "    #Guess\n",
    "    xyz = sGEOCtoECEF(geodetic, use_degrees = true)*1e-3\n",
    "    \n",
    "    #sat poses is in km. need to switch to meters to find elev angle\n",
    "    elev_angles = elevation_angle(sat_poses*1e3, r0[1:3]*1e3)\n",
    "    \n",
    "    #println(\"these are the elevation angles: \", elev_angles)\n",
    "    inhorizon = all(x->x<70, elev_angles)\n",
    "    if inhorizon==false\n",
    "        println(\"Not in the horizon\")\n",
    "        #continue #skip the current iteration\n",
    "    else \n",
    "        #sat poses is in km, xyz is in km\n",
    "        PDOP, pose_covariance = calculate_covariance(sat_poses, elev_angles, xyz)\n",
    "        println(\"this is PDOP: \", PDOP)\n",
    "        \n",
    "        r_ellipse = draw_ellipse(pose_covariance[1:2, 1:2])\n",
    "        \n",
    "        #println(\"this is r_ellipse: \", r_ellipse)\n",
    "        ellipse_x[] = r_ellipse[:,1]\n",
    "        ellipse_y[] = r_ellipse[:,2]\n",
    "    end\n",
    "    \n",
    "    \n",
    "    #println(\"this is xyz: \", xyz)\n",
    "    \n",
    "    guess[] = xyz\n",
    "    \n",
    "    end\n",
    "    \n",
    "set_close_to!(lsgrid.sliders[1], 1200)\n",
    "set_close_to!(lsgrid.sliders[2], 2)\n",
    "set_close_to!(lsgrid.sliders[3], 10)\n",
    "set_close_to!(lsgrid.sliders[4], 3)\n",
    "set_close_to!(lsgrid.sliders[5], 1)\n",
    "\n",
    "\n",
    "#Plot tag position\n",
    "tagpose = meshscatter!([r0[1]],[r0[2]],[r0[3]], markersize = 150, color=:red, label = \"Tag\")\n",
    "\n",
    "#Plot the Guess\n",
    "guesspose = meshscatter!(guess, markersize = 150, color=:brown, label= \"Guess\")\n",
    "\n",
    "#Plot satellites\n",
    "satpose = meshscatter!(sats, markersize = 150, color=:yellow, label= \"Satellites\")\n",
    "\n",
    "#Good plotting\n",
    "#Plot orbit  of sat 1/2\n",
    "orbit12 = lines!(eci_1_x, eci_1_y, eci_1_z, color = :blue, label= \"Orbit 1/2\")\n",
    "\n",
    "#Plot orbit of sat 3/4\n",
    "orbit34 = lines!(eci_3_x, eci_3_y, eci_3_z, color = :purple, label= \"Orbit 3/4\")\n",
    "\n",
    "ellipse = lines(ellipse_x, ellipse_y)\n",
    "#result = text!([Point3f0(0, 0, 8000)]; text = \"Result\")\n",
    "\n",
    "\n",
    "#f[1, 2] = Legend(fig, ax, \"Trig Functions\", framevisible = false)\n",
    "\n",
    "# Legend(fig[1, 1],\n",
    "#     [orbit12, orbit34, tagpose, guesspose, satpose],\n",
    "#     [\"Orbit 1/2\", \"Orbit 3/4\", \"Tag\", \"Initial Guess\", \"Satellites\"])\n",
    "\n",
    "\n",
    "\n",
    "display(fig)"
   ]
  },
  {
   "cell_type": "code",
   "execution_count": null,
   "id": "69c09869",
   "metadata": {},
   "outputs": [],
   "source": [
    "A = [1 1 1;2 2 2]"
   ]
  },
  {
   "cell_type": "code",
   "execution_count": null,
   "id": "0732522c",
   "metadata": {},
   "outputs": [],
   "source": [
    "b = [5,6,7,8]"
   ]
  },
  {
   "cell_type": "code",
   "execution_count": null,
   "id": "f5943ce2",
   "metadata": {},
   "outputs": [],
   "source": [
    "J = vcat(A,A)"
   ]
  },
  {
   "cell_type": "code",
   "execution_count": null,
   "id": "b918b642",
   "metadata": {},
   "outputs": [],
   "source": [
    "[Jb]"
   ]
  },
  {
   "cell_type": "code",
   "execution_count": 1,
   "id": "1359c8c6",
   "metadata": {},
   "outputs": [
    {
     "data": {
      "text/plain": [
       "0.0:0.01:6.28"
      ]
     },
     "execution_count": 1,
     "metadata": {},
     "output_type": "execute_result"
    }
   ],
   "source": [
    "theta_grid = 0:0.01:2*pi"
   ]
  },
  {
   "cell_type": "code",
   "execution_count": null,
   "id": "54b83ba7",
   "metadata": {},
   "outputs": [],
   "source": []
  }
 ],
 "metadata": {
  "@webio": {
   "lastCommId": null,
   "lastKernelId": null
  },
  "kernelspec": {
   "display_name": "Julia 1.6.5",
   "language": "julia",
   "name": "julia-1.6"
  },
  "language_info": {
   "file_extension": ".jl",
   "mimetype": "application/julia",
   "name": "julia",
   "version": "1.6.5"
  }
 },
 "nbformat": 4,
 "nbformat_minor": 5
}
